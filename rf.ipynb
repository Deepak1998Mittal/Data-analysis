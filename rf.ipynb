{
 "cells": [
  {
   "cell_type": "code",
   "execution_count": 4,
   "metadata": {},
   "outputs": [],
   "source": [
    "import pandas as pd \n",
    "import numpy as np"
   ]
  },
  {
   "cell_type": "code",
   "execution_count": 5,
   "metadata": {},
   "outputs": [],
   "source": [
    "titanic = pd.read_csv('Downloads/train.csv')"
   ]
  },
  {
   "cell_type": "code",
   "execution_count": 6,
   "metadata": {},
   "outputs": [
    {
     "data": {
      "text/html": [
       "<div>\n",
       "<style scoped>\n",
       "    .dataframe tbody tr th:only-of-type {\n",
       "        vertical-align: middle;\n",
       "    }\n",
       "\n",
       "    .dataframe tbody tr th {\n",
       "        vertical-align: top;\n",
       "    }\n",
       "\n",
       "    .dataframe thead th {\n",
       "        text-align: right;\n",
       "    }\n",
       "</style>\n",
       "<table border=\"1\" class=\"dataframe\">\n",
       "  <thead>\n",
       "    <tr style=\"text-align: right;\">\n",
       "      <th></th>\n",
       "      <th>PassengerId</th>\n",
       "      <th>Survived</th>\n",
       "      <th>Pclass</th>\n",
       "      <th>Name</th>\n",
       "      <th>Sex</th>\n",
       "      <th>Age</th>\n",
       "      <th>SibSp</th>\n",
       "      <th>Parch</th>\n",
       "      <th>Ticket</th>\n",
       "      <th>Fare</th>\n",
       "      <th>Cabin</th>\n",
       "      <th>Embarked</th>\n",
       "    </tr>\n",
       "  </thead>\n",
       "  <tbody>\n",
       "    <tr>\n",
       "      <th>0</th>\n",
       "      <td>1</td>\n",
       "      <td>0</td>\n",
       "      <td>3</td>\n",
       "      <td>Braund, Mr. Owen Harris</td>\n",
       "      <td>male</td>\n",
       "      <td>22.0</td>\n",
       "      <td>1</td>\n",
       "      <td>0</td>\n",
       "      <td>A/5 21171</td>\n",
       "      <td>7.2500</td>\n",
       "      <td>NaN</td>\n",
       "      <td>S</td>\n",
       "    </tr>\n",
       "    <tr>\n",
       "      <th>1</th>\n",
       "      <td>2</td>\n",
       "      <td>1</td>\n",
       "      <td>1</td>\n",
       "      <td>Cumings, Mrs. John Bradley (Florence Briggs Th...</td>\n",
       "      <td>female</td>\n",
       "      <td>38.0</td>\n",
       "      <td>1</td>\n",
       "      <td>0</td>\n",
       "      <td>PC 17599</td>\n",
       "      <td>71.2833</td>\n",
       "      <td>C85</td>\n",
       "      <td>C</td>\n",
       "    </tr>\n",
       "    <tr>\n",
       "      <th>2</th>\n",
       "      <td>3</td>\n",
       "      <td>1</td>\n",
       "      <td>3</td>\n",
       "      <td>Heikkinen, Miss. Laina</td>\n",
       "      <td>female</td>\n",
       "      <td>26.0</td>\n",
       "      <td>0</td>\n",
       "      <td>0</td>\n",
       "      <td>STON/O2. 3101282</td>\n",
       "      <td>7.9250</td>\n",
       "      <td>NaN</td>\n",
       "      <td>S</td>\n",
       "    </tr>\n",
       "  </tbody>\n",
       "</table>\n",
       "</div>"
      ],
      "text/plain": [
       "   PassengerId  Survived  Pclass  \\\n",
       "0            1         0       3   \n",
       "1            2         1       1   \n",
       "2            3         1       3   \n",
       "\n",
       "                                                Name     Sex   Age  SibSp  \\\n",
       "0                            Braund, Mr. Owen Harris    male  22.0      1   \n",
       "1  Cumings, Mrs. John Bradley (Florence Briggs Th...  female  38.0      1   \n",
       "2                             Heikkinen, Miss. Laina  female  26.0      0   \n",
       "\n",
       "   Parch            Ticket     Fare Cabin Embarked  \n",
       "0      0         A/5 21171   7.2500   NaN        S  \n",
       "1      0          PC 17599  71.2833   C85        C  \n",
       "2      0  STON/O2. 3101282   7.9250   NaN        S  "
      ]
     },
     "execution_count": 6,
     "metadata": {},
     "output_type": "execute_result"
    }
   ],
   "source": [
    "titanic.head(3)"
   ]
  },
  {
   "cell_type": "code",
   "execution_count": null,
   "metadata": {},
   "outputs": [],
   "source": [
    "'''passengerid is not required \n",
    "    name is not required\n",
    "    sex should be in binary form\n",
    "    age should be continous by filling with average\n",
    "    sibsp and parch should be combine together as both are making same sense\n",
    "    ticket is not required\n",
    "    cabin should be in binary form\n",
    "    embarked is not required\n",
    "'''"
   ]
  },
  {
   "cell_type": "code",
   "execution_count": 7,
   "metadata": {},
   "outputs": [
    {
     "data": {
      "text/html": [
       "<div>\n",
       "<style scoped>\n",
       "    .dataframe tbody tr th:only-of-type {\n",
       "        vertical-align: middle;\n",
       "    }\n",
       "\n",
       "    .dataframe tbody tr th {\n",
       "        vertical-align: top;\n",
       "    }\n",
       "\n",
       "    .dataframe thead th {\n",
       "        text-align: right;\n",
       "    }\n",
       "</style>\n",
       "<table border=\"1\" class=\"dataframe\">\n",
       "  <thead>\n",
       "    <tr style=\"text-align: right;\">\n",
       "      <th></th>\n",
       "      <th>Survived</th>\n",
       "      <th>Pclass</th>\n",
       "      <th>Sex</th>\n",
       "      <th>Age</th>\n",
       "      <th>Fare</th>\n",
       "      <th>Cabin</th>\n",
       "      <th>family</th>\n",
       "    </tr>\n",
       "  </thead>\n",
       "  <tbody>\n",
       "    <tr>\n",
       "      <th>0</th>\n",
       "      <td>0</td>\n",
       "      <td>3</td>\n",
       "      <td>0</td>\n",
       "      <td>22.000000</td>\n",
       "      <td>7.2500</td>\n",
       "      <td>0</td>\n",
       "      <td>1</td>\n",
       "    </tr>\n",
       "    <tr>\n",
       "      <th>1</th>\n",
       "      <td>1</td>\n",
       "      <td>1</td>\n",
       "      <td>1</td>\n",
       "      <td>38.000000</td>\n",
       "      <td>71.2833</td>\n",
       "      <td>1</td>\n",
       "      <td>1</td>\n",
       "    </tr>\n",
       "    <tr>\n",
       "      <th>2</th>\n",
       "      <td>1</td>\n",
       "      <td>3</td>\n",
       "      <td>1</td>\n",
       "      <td>26.000000</td>\n",
       "      <td>7.9250</td>\n",
       "      <td>0</td>\n",
       "      <td>0</td>\n",
       "    </tr>\n",
       "    <tr>\n",
       "      <th>3</th>\n",
       "      <td>1</td>\n",
       "      <td>1</td>\n",
       "      <td>1</td>\n",
       "      <td>35.000000</td>\n",
       "      <td>53.1000</td>\n",
       "      <td>1</td>\n",
       "      <td>1</td>\n",
       "    </tr>\n",
       "    <tr>\n",
       "      <th>4</th>\n",
       "      <td>0</td>\n",
       "      <td>3</td>\n",
       "      <td>0</td>\n",
       "      <td>35.000000</td>\n",
       "      <td>8.0500</td>\n",
       "      <td>0</td>\n",
       "      <td>0</td>\n",
       "    </tr>\n",
       "    <tr>\n",
       "      <th>5</th>\n",
       "      <td>0</td>\n",
       "      <td>3</td>\n",
       "      <td>0</td>\n",
       "      <td>29.699118</td>\n",
       "      <td>8.4583</td>\n",
       "      <td>0</td>\n",
       "      <td>0</td>\n",
       "    </tr>\n",
       "    <tr>\n",
       "      <th>6</th>\n",
       "      <td>0</td>\n",
       "      <td>1</td>\n",
       "      <td>0</td>\n",
       "      <td>54.000000</td>\n",
       "      <td>51.8625</td>\n",
       "      <td>1</td>\n",
       "      <td>0</td>\n",
       "    </tr>\n",
       "    <tr>\n",
       "      <th>7</th>\n",
       "      <td>0</td>\n",
       "      <td>3</td>\n",
       "      <td>0</td>\n",
       "      <td>2.000000</td>\n",
       "      <td>21.0750</td>\n",
       "      <td>0</td>\n",
       "      <td>4</td>\n",
       "    </tr>\n",
       "    <tr>\n",
       "      <th>8</th>\n",
       "      <td>1</td>\n",
       "      <td>3</td>\n",
       "      <td>1</td>\n",
       "      <td>27.000000</td>\n",
       "      <td>11.1333</td>\n",
       "      <td>0</td>\n",
       "      <td>2</td>\n",
       "    </tr>\n",
       "    <tr>\n",
       "      <th>9</th>\n",
       "      <td>1</td>\n",
       "      <td>2</td>\n",
       "      <td>1</td>\n",
       "      <td>14.000000</td>\n",
       "      <td>30.0708</td>\n",
       "      <td>0</td>\n",
       "      <td>1</td>\n",
       "    </tr>\n",
       "  </tbody>\n",
       "</table>\n",
       "</div>"
      ],
      "text/plain": [
       "   Survived  Pclass  Sex        Age     Fare  Cabin  family\n",
       "0         0       3    0  22.000000   7.2500      0       1\n",
       "1         1       1    1  38.000000  71.2833      1       1\n",
       "2         1       3    1  26.000000   7.9250      0       0\n",
       "3         1       1    1  35.000000  53.1000      1       1\n",
       "4         0       3    0  35.000000   8.0500      0       0\n",
       "5         0       3    0  29.699118   8.4583      0       0\n",
       "6         0       1    0  54.000000  51.8625      1       0\n",
       "7         0       3    0   2.000000  21.0750      0       4\n",
       "8         1       3    1  27.000000  11.1333      0       2\n",
       "9         1       2    1  14.000000  30.0708      0       1"
      ]
     },
     "execution_count": 7,
     "metadata": {},
     "output_type": "execute_result"
    }
   ],
   "source": [
    "titanic['Cabin'] = np.where(titanic['Cabin'].isnull(),0,1)\n",
    "titanic['Sex'] = titanic['Sex'].map({'male':0,'female':1})\n",
    "titanic['family'] = titanic['SibSp']+titanic['Parch']\n",
    "titanic['Age'].fillna(titanic['Age'].mean(),inplace=True)\n",
    "titanic.drop(['PassengerId','Name','SibSp','Parch','Ticket','Embarked'],axis = 1,inplace=True)\n",
    "titanic.head(10)"
   ]
  },
  {
   "cell_type": "code",
   "execution_count": 32,
   "metadata": {},
   "outputs": [],
   "source": [
    "#write fully cleaned data\n",
    "titanic.to_csv('cleaned.csv',index=False)         #index should not be written :first column"
   ]
  },
  {
   "cell_type": "code",
   "execution_count": 8,
   "metadata": {},
   "outputs": [],
   "source": [
    "from sklearn.model_selection import train_test_split"
   ]
  },
  {
   "cell_type": "code",
   "execution_count": 9,
   "metadata": {},
   "outputs": [
    {
     "name": "stdout",
     "output_type": "stream",
     "text": [
      "891 534 178 179 534 178 179\n",
      "60.0%\n",
      "20.0%\n",
      "20.0%\n"
     ]
    }
   ],
   "source": [
    "features = titanic.drop('Survived',axis=1)              #x = features,y= labels\n",
    "labels = titanic['Survived']\n",
    "x_train,x_test,y_train,y_test = train_test_split(features,labels,test_size = 0.4,random_state = 42)\n",
    "x_test,x_val,y_test,y_val = train_test_split(x_test,y_test,test_size = 0.5, random_state = 42)\n",
    "print(len(labels),len(x_train),len(x_test),len(x_val),len(y_train),len(y_test),len(y_val))\n",
    "for size in [x_train,x_test,x_val]:\n",
    "    print(str(round(len(size)/len(labels),2)*100)+'%')"
   ]
  },
  {
   "cell_type": "code",
   "execution_count": 30,
   "metadata": {},
   "outputs": [],
   "source": [
    "from sklearn.ensemble import RandomForestClassifier\n",
    "from sklearn.model_selection import cross_val_score\n",
    "import warnings \n",
    "warnings.filterwarnings('ignore',category=FutureWarning)"
   ]
  },
  {
   "cell_type": "code",
   "execution_count": 31,
   "metadata": {},
   "outputs": [
    {
     "data": {
      "text/plain": [
       "array([0.86111111, 0.8317757 , 0.80373832, 0.80188679, 0.83018868])"
      ]
     },
     "execution_count": 31,
     "metadata": {},
     "output_type": "execute_result"
    }
   ],
   "source": [
    "#five fold cross validation\n",
    "\n",
    "rf = RandomForestClassifier()\n",
    "cross_val_score(rf,x_train,y_train,cv=5)"
   ]
  },
  {
   "cell_type": "code",
   "execution_count": 32,
   "metadata": {},
   "outputs": [],
   "source": [
    "#To find the optimal hyperparameter,we'll use grid search\n",
    "from sklearn.model_selection import GridSearchCV"
   ]
  },
  {
   "cell_type": "code",
   "execution_count": 33,
   "metadata": {},
   "outputs": [],
   "source": [
    "def print_result(results):\n",
    "    print('BEST PARAMS {}'.format(results.best_params_))\n",
    "    means = results.cv_results_['mean_test_score']\n",
    "    stds = results.cv_results_['std_test_score']\n",
    "    for mean,std,params in zip(means,stds,results.cv_results_['params']):\n",
    "        print('{} (+/-{}) for {}'.format(round(mean,2),round(std*2,2),params))"
   ]
  },
  {
   "cell_type": "code",
   "execution_count": 41,
   "metadata": {},
   "outputs": [
    {
     "name": "stdout",
     "output_type": "stream",
     "text": [
      "BEST PARAMS {'max_depth': 10, 'n_estimators': 100}\n",
      "0.76 (+/-0.15) for {'max_depth': 2, 'n_estimators': 5}\n",
      "0.8 (+/-0.1) for {'max_depth': 2, 'n_estimators': 50}\n",
      "0.79 (+/-0.13) for {'max_depth': 2, 'n_estimators': 100}\n",
      "0.81 (+/-0.03) for {'max_depth': 10, 'n_estimators': 5}\n",
      "0.82 (+/-0.05) for {'max_depth': 10, 'n_estimators': 50}\n",
      "0.83 (+/-0.05) for {'max_depth': 10, 'n_estimators': 100}\n",
      "0.8 (+/-0.07) for {'max_depth': 20, 'n_estimators': 5}\n",
      "0.81 (+/-0.05) for {'max_depth': 20, 'n_estimators': 50}\n",
      "0.81 (+/-0.03) for {'max_depth': 20, 'n_estimators': 100}\n",
      "0.81 (+/-0.07) for {'max_depth': None, 'n_estimators': 5}\n",
      "0.81 (+/-0.02) for {'max_depth': None, 'n_estimators': 50}\n",
      "0.81 (+/-0.03) for {'max_depth': None, 'n_estimators': 100}\n"
     ]
    },
    {
     "name": "stderr",
     "output_type": "stream",
     "text": [
      "C:\\Users\\hp\\Anaconda3\\lib\\site-packages\\sklearn\\model_selection\\_search.py:841: DeprecationWarning: The default of the `iid` parameter will change from True to False in version 0.22 and will be removed in 0.24. This will change numeric results when test-set sizes are unequal.\n",
      "  DeprecationWarning)\n"
     ]
    }
   ],
   "source": [
    "parameter={'n_estimators':[5,50,100],\n",
    "           'max_depth':[2,10,20,None]}                  #how many random forest do you wanna build(n_estimators),\n",
    "cv = GridSearchCV(rf,parameter,cv=5)                # 3(n_estimators)*4(max_depth)*5(cv) = 60 models\n",
    "cv.fit(x_train,y_train.values.ravel())\n",
    "print_result(cv)"
   ]
  },
  {
   "cell_type": "code",
   "execution_count": 43,
   "metadata": {},
   "outputs": [
    {
     "data": {
      "text/plain": [
       "RandomForestClassifier(bootstrap=True, class_weight=None, criterion='gini',\n",
       "            max_depth=20, max_features='auto', max_leaf_nodes=None,\n",
       "            min_impurity_decrease=0.0, min_impurity_split=None,\n",
       "            min_samples_leaf=1, min_samples_split=2,\n",
       "            min_weight_fraction_leaf=0.0, n_estimators=50, n_jobs=None,\n",
       "            oob_score=False, random_state=None, verbose=0,\n",
       "            warm_start=False)"
      ]
     },
     "execution_count": 43,
     "metadata": {},
     "output_type": "execute_result"
    }
   ],
   "source": [
    "rf1 = RandomForestClassifier(n_estimators=100,max_depth=10)\n",
    "rf1.fit(x_train,y_train.values.ravel())\n",
    "rf2 = RandomForestClassifier(n_estimators=50,max_depth=10)\n",
    "rf2.fit(x_train,y_train.values.ravel())\n",
    "rf3 = RandomForestClassifier(n_estimators=50,max_depth=20)\n",
    "rf3.fit(x_train,y_train.values.ravel())"
   ]
  },
  {
   "cell_type": "code",
   "execution_count": 45,
   "metadata": {},
   "outputs": [],
   "source": [
    "from sklearn.metrics import accuracy_score,precision_score,recall_score"
   ]
  },
  {
   "cell_type": "code",
   "execution_count": 47,
   "metadata": {},
   "outputs": [
    {
     "name": "stdout",
     "output_type": "stream",
     "text": [
      "max_depth : 10 , n_estimators : 100, A:0.84 , P:0.86 , R:0.74 \n",
      "max_depth : 10 , n_estimators : 50, A:0.82 , P:0.84 , R:0.7 \n",
      "max_depth : 20 , n_estimators : 50, A:0.83 , P:0.84 , R:0.75 \n"
     ]
    }
   ],
   "source": [
    "for model in [rf1,rf2,rf3]:\n",
    "    y_pred = model.predict(x_val)\n",
    "    accuracy = round(accuracy_score(y_val,y_pred),2)\n",
    "    precision = round(precision_score(y_val,y_pred),2)\n",
    "    recall = round(recall_score(y_val,y_pred),2)\n",
    "    print(\"max_depth : {} , n_estimators : {}, A:{} , P:{} , R:{} \".format(model.max_depth,model.n_estimators,accuracy,precision,recall))"
   ]
  },
  {
   "cell_type": "code",
   "execution_count": 51,
   "metadata": {},
   "outputs": [
    {
     "name": "stdout",
     "output_type": "stream",
     "text": [
      "max_depth : 10 , n_estimators : 100, A:0.8 , P:0.76 , R:0.65 \n"
     ]
    }
   ],
   "source": [
    "y_pred = rf1.predict(x_test)\n",
    "accuracy = round(accuracy_score(y_test,y_pred),2)\n",
    "precision = round(precision_score(y_test,y_pred),2)\n",
    "recall = round(recall_score(y_test,y_pred),2)\n",
    "print(\"max_depth : {} , n_estimators : {}, A:{} , P:{} , R:{} \".format(rf1.max_depth,\n",
    "                                                                           rf1.n_estimators,accuracy,precision,recall))"
   ]
  },
  {
   "cell_type": "code",
   "execution_count": null,
   "metadata": {},
   "outputs": [],
   "source": []
  }
 ],
 "metadata": {
  "kernelspec": {
   "display_name": "Python 3",
   "language": "python",
   "name": "python3"
  },
  "language_info": {
   "codemirror_mode": {
    "name": "ipython",
    "version": 3
   },
   "file_extension": ".py",
   "mimetype": "text/x-python",
   "name": "python",
   "nbconvert_exporter": "python",
   "pygments_lexer": "ipython3",
   "version": "3.7.3"
  }
 },
 "nbformat": 4,
 "nbformat_minor": 2
}
