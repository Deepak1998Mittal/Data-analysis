{
  "nbformat": 4,
  "nbformat_minor": 0,
  "metadata": {
    "kernelspec": {
      "display_name": "Python 3",
      "language": "python",
      "name": "python3"
    },
    "language_info": {
      "codemirror_mode": {
        "name": "ipython",
        "version": 3
      },
      "file_extension": ".py",
      "mimetype": "text/x-python",
      "name": "python",
      "nbconvert_exporter": "python",
      "pygments_lexer": "ipython3",
      "version": "3.7.3"
    },
    "colab": {
      "name": "Titanic - Survival Prediction.ipynb",
      "provenance": []
    }
  },
  "cells": [
    {
      "cell_type": "markdown",
      "metadata": {
        "id": "Y2xQAbx-CjsO",
        "colab_type": "text"
      },
      "source": [
        "**Import all the Libraries and data**"
      ]
    },
    {
      "cell_type": "code",
      "metadata": {
        "id": "uVQpsMBMCjsQ",
        "colab_type": "code",
        "colab": {}
      },
      "source": [
        "import matplotlib.pyplot as plt\n",
        "import pandas as pd \n",
        "import numpy as np\n",
        "import seaborn as sns\n",
        "import warnings\n",
        "warnings.filterwarnings('ignore',category=FutureWarning)\n",
        "warnings.filterwarnings('ignore',category=DeprecationWarning)\n",
        "%matplotlib inline"
      ],
      "execution_count": 0,
      "outputs": []
    },
    {
      "cell_type": "code",
      "metadata": {
        "id": "Bd1PDXAYCjsT",
        "colab_type": "code",
        "colab": {}
      },
      "source": [
        "titanic_train = pd.read_csv('https://raw.githubusercontent.com/Deepak1998Mittal/titanic/master/train.csv')\n",
        "titanic_test  = pd.read_csv('https://raw.githubusercontent.com/Deepak1998Mittal/titanic/master/test.csv')\n",
        "P_ID = titanic_test['PassengerId']"
      ],
      "execution_count": 0,
      "outputs": []
    },
    {
      "cell_type": "code",
      "metadata": {
        "id": "vXptgtcmCjsV",
        "colab_type": "code",
        "outputId": "e7e19465-ab9d-42d9-b25b-a0cbf2336cb4",
        "colab": {
          "base_uri": "https://localhost:8080/",
          "height": 33
        }
      },
      "source": [
        "titanic_train.shape,titanic_test.shape"
      ],
      "execution_count": 7,
      "outputs": [
        {
          "output_type": "execute_result",
          "data": {
            "text/plain": [
              "((891, 12), (418, 11))"
            ]
          },
          "metadata": {
            "tags": []
          },
          "execution_count": 7
        }
      ]
    },
    {
      "cell_type": "code",
      "metadata": {
        "id": "Rbsr_-DGCjsb",
        "colab_type": "code",
        "outputId": "2c457b3f-89ce-487f-93d8-62468ca4d593",
        "colab": {
          "base_uri": "https://localhost:8080/",
          "height": 107
        }
      },
      "source": [
        "titanic_train.head(2)"
      ],
      "execution_count": 8,
      "outputs": [
        {
          "output_type": "execute_result",
          "data": {
            "text/html": [
              "<div>\n",
              "<style scoped>\n",
              "    .dataframe tbody tr th:only-of-type {\n",
              "        vertical-align: middle;\n",
              "    }\n",
              "\n",
              "    .dataframe tbody tr th {\n",
              "        vertical-align: top;\n",
              "    }\n",
              "\n",
              "    .dataframe thead th {\n",
              "        text-align: right;\n",
              "    }\n",
              "</style>\n",
              "<table border=\"1\" class=\"dataframe\">\n",
              "  <thead>\n",
              "    <tr style=\"text-align: right;\">\n",
              "      <th></th>\n",
              "      <th>PassengerId</th>\n",
              "      <th>Survived</th>\n",
              "      <th>Pclass</th>\n",
              "      <th>Name</th>\n",
              "      <th>Sex</th>\n",
              "      <th>Age</th>\n",
              "      <th>SibSp</th>\n",
              "      <th>Parch</th>\n",
              "      <th>Ticket</th>\n",
              "      <th>Fare</th>\n",
              "      <th>Cabin</th>\n",
              "      <th>Embarked</th>\n",
              "    </tr>\n",
              "  </thead>\n",
              "  <tbody>\n",
              "    <tr>\n",
              "      <th>0</th>\n",
              "      <td>1</td>\n",
              "      <td>0</td>\n",
              "      <td>3</td>\n",
              "      <td>Braund, Mr. Owen Harris</td>\n",
              "      <td>male</td>\n",
              "      <td>22.0</td>\n",
              "      <td>1</td>\n",
              "      <td>0</td>\n",
              "      <td>A/5 21171</td>\n",
              "      <td>7.2500</td>\n",
              "      <td>NaN</td>\n",
              "      <td>S</td>\n",
              "    </tr>\n",
              "    <tr>\n",
              "      <th>1</th>\n",
              "      <td>2</td>\n",
              "      <td>1</td>\n",
              "      <td>1</td>\n",
              "      <td>Cumings, Mrs. John Bradley (Florence Briggs Th...</td>\n",
              "      <td>female</td>\n",
              "      <td>38.0</td>\n",
              "      <td>1</td>\n",
              "      <td>0</td>\n",
              "      <td>PC 17599</td>\n",
              "      <td>71.2833</td>\n",
              "      <td>C85</td>\n",
              "      <td>C</td>\n",
              "    </tr>\n",
              "  </tbody>\n",
              "</table>\n",
              "</div>"
            ],
            "text/plain": [
              "   PassengerId  Survived  Pclass  ...     Fare Cabin  Embarked\n",
              "0            1         0       3  ...   7.2500   NaN         S\n",
              "1            2         1       1  ...  71.2833   C85         C\n",
              "\n",
              "[2 rows x 12 columns]"
            ]
          },
          "metadata": {
            "tags": []
          },
          "execution_count": 8
        }
      ]
    },
    {
      "cell_type": "code",
      "metadata": {
        "id": "PoQBU5TBCjsd",
        "colab_type": "code",
        "outputId": "c42f40ce-7759-46c4-bce2-76d3ecebcb93",
        "colab": {
          "base_uri": "https://localhost:8080/",
          "height": 107
        }
      },
      "source": [
        "titanic_test.head(2)                                  "
      ],
      "execution_count": 9,
      "outputs": [
        {
          "output_type": "execute_result",
          "data": {
            "text/html": [
              "<div>\n",
              "<style scoped>\n",
              "    .dataframe tbody tr th:only-of-type {\n",
              "        vertical-align: middle;\n",
              "    }\n",
              "\n",
              "    .dataframe tbody tr th {\n",
              "        vertical-align: top;\n",
              "    }\n",
              "\n",
              "    .dataframe thead th {\n",
              "        text-align: right;\n",
              "    }\n",
              "</style>\n",
              "<table border=\"1\" class=\"dataframe\">\n",
              "  <thead>\n",
              "    <tr style=\"text-align: right;\">\n",
              "      <th></th>\n",
              "      <th>PassengerId</th>\n",
              "      <th>Pclass</th>\n",
              "      <th>Name</th>\n",
              "      <th>Sex</th>\n",
              "      <th>Age</th>\n",
              "      <th>SibSp</th>\n",
              "      <th>Parch</th>\n",
              "      <th>Ticket</th>\n",
              "      <th>Fare</th>\n",
              "      <th>Cabin</th>\n",
              "      <th>Embarked</th>\n",
              "    </tr>\n",
              "  </thead>\n",
              "  <tbody>\n",
              "    <tr>\n",
              "      <th>0</th>\n",
              "      <td>892</td>\n",
              "      <td>3</td>\n",
              "      <td>Kelly, Mr. James</td>\n",
              "      <td>male</td>\n",
              "      <td>34.5</td>\n",
              "      <td>0</td>\n",
              "      <td>0</td>\n",
              "      <td>330911</td>\n",
              "      <td>7.8292</td>\n",
              "      <td>NaN</td>\n",
              "      <td>Q</td>\n",
              "    </tr>\n",
              "    <tr>\n",
              "      <th>1</th>\n",
              "      <td>893</td>\n",
              "      <td>3</td>\n",
              "      <td>Wilkes, Mrs. James (Ellen Needs)</td>\n",
              "      <td>female</td>\n",
              "      <td>47.0</td>\n",
              "      <td>1</td>\n",
              "      <td>0</td>\n",
              "      <td>363272</td>\n",
              "      <td>7.0000</td>\n",
              "      <td>NaN</td>\n",
              "      <td>S</td>\n",
              "    </tr>\n",
              "  </tbody>\n",
              "</table>\n",
              "</div>"
            ],
            "text/plain": [
              "   PassengerId  Pclass                              Name  ...    Fare  Cabin  Embarked\n",
              "0          892       3                  Kelly, Mr. James  ...  7.8292    NaN         Q\n",
              "1          893       3  Wilkes, Mrs. James (Ellen Needs)  ...  7.0000    NaN         S\n",
              "\n",
              "[2 rows x 11 columns]"
            ]
          },
          "metadata": {
            "tags": []
          },
          "execution_count": 9
        }
      ]
    },
    {
      "cell_type": "code",
      "metadata": {
        "id": "UHqqQXJFCjsf",
        "colab_type": "code",
        "outputId": "f9b247e9-91c6-4f6a-be3f-6d1f2db35795",
        "colab": {
          "base_uri": "https://localhost:8080/",
          "height": 300
        }
      },
      "source": [
        "titanic_train.info()"
      ],
      "execution_count": 10,
      "outputs": [
        {
          "output_type": "stream",
          "text": [
            "<class 'pandas.core.frame.DataFrame'>\n",
            "RangeIndex: 891 entries, 0 to 890\n",
            "Data columns (total 12 columns):\n",
            "PassengerId    891 non-null int64\n",
            "Survived       891 non-null int64\n",
            "Pclass         891 non-null int64\n",
            "Name           891 non-null object\n",
            "Sex            891 non-null object\n",
            "Age            714 non-null float64\n",
            "SibSp          891 non-null int64\n",
            "Parch          891 non-null int64\n",
            "Ticket         891 non-null object\n",
            "Fare           891 non-null float64\n",
            "Cabin          204 non-null object\n",
            "Embarked       889 non-null object\n",
            "dtypes: float64(2), int64(5), object(5)\n",
            "memory usage: 83.7+ KB\n"
          ],
          "name": "stdout"
        }
      ]
    },
    {
      "cell_type": "code",
      "metadata": {
        "id": "8YUAVAphCjsi",
        "colab_type": "code",
        "outputId": "ec648f91-03ce-462e-dd98-d5daa01c4cf8",
        "colab": {
          "base_uri": "https://localhost:8080/",
          "height": 287
        }
      },
      "source": [
        "titanic_train.describe()"
      ],
      "execution_count": 11,
      "outputs": [
        {
          "output_type": "execute_result",
          "data": {
            "text/html": [
              "<div>\n",
              "<style scoped>\n",
              "    .dataframe tbody tr th:only-of-type {\n",
              "        vertical-align: middle;\n",
              "    }\n",
              "\n",
              "    .dataframe tbody tr th {\n",
              "        vertical-align: top;\n",
              "    }\n",
              "\n",
              "    .dataframe thead th {\n",
              "        text-align: right;\n",
              "    }\n",
              "</style>\n",
              "<table border=\"1\" class=\"dataframe\">\n",
              "  <thead>\n",
              "    <tr style=\"text-align: right;\">\n",
              "      <th></th>\n",
              "      <th>PassengerId</th>\n",
              "      <th>Survived</th>\n",
              "      <th>Pclass</th>\n",
              "      <th>Age</th>\n",
              "      <th>SibSp</th>\n",
              "      <th>Parch</th>\n",
              "      <th>Fare</th>\n",
              "    </tr>\n",
              "  </thead>\n",
              "  <tbody>\n",
              "    <tr>\n",
              "      <th>count</th>\n",
              "      <td>891.000000</td>\n",
              "      <td>891.000000</td>\n",
              "      <td>891.000000</td>\n",
              "      <td>714.000000</td>\n",
              "      <td>891.000000</td>\n",
              "      <td>891.000000</td>\n",
              "      <td>891.000000</td>\n",
              "    </tr>\n",
              "    <tr>\n",
              "      <th>mean</th>\n",
              "      <td>446.000000</td>\n",
              "      <td>0.383838</td>\n",
              "      <td>2.308642</td>\n",
              "      <td>29.699118</td>\n",
              "      <td>0.523008</td>\n",
              "      <td>0.381594</td>\n",
              "      <td>32.204208</td>\n",
              "    </tr>\n",
              "    <tr>\n",
              "      <th>std</th>\n",
              "      <td>257.353842</td>\n",
              "      <td>0.486592</td>\n",
              "      <td>0.836071</td>\n",
              "      <td>14.526497</td>\n",
              "      <td>1.102743</td>\n",
              "      <td>0.806057</td>\n",
              "      <td>49.693429</td>\n",
              "    </tr>\n",
              "    <tr>\n",
              "      <th>min</th>\n",
              "      <td>1.000000</td>\n",
              "      <td>0.000000</td>\n",
              "      <td>1.000000</td>\n",
              "      <td>0.420000</td>\n",
              "      <td>0.000000</td>\n",
              "      <td>0.000000</td>\n",
              "      <td>0.000000</td>\n",
              "    </tr>\n",
              "    <tr>\n",
              "      <th>25%</th>\n",
              "      <td>223.500000</td>\n",
              "      <td>0.000000</td>\n",
              "      <td>2.000000</td>\n",
              "      <td>20.125000</td>\n",
              "      <td>0.000000</td>\n",
              "      <td>0.000000</td>\n",
              "      <td>7.910400</td>\n",
              "    </tr>\n",
              "    <tr>\n",
              "      <th>50%</th>\n",
              "      <td>446.000000</td>\n",
              "      <td>0.000000</td>\n",
              "      <td>3.000000</td>\n",
              "      <td>28.000000</td>\n",
              "      <td>0.000000</td>\n",
              "      <td>0.000000</td>\n",
              "      <td>14.454200</td>\n",
              "    </tr>\n",
              "    <tr>\n",
              "      <th>75%</th>\n",
              "      <td>668.500000</td>\n",
              "      <td>1.000000</td>\n",
              "      <td>3.000000</td>\n",
              "      <td>38.000000</td>\n",
              "      <td>1.000000</td>\n",
              "      <td>0.000000</td>\n",
              "      <td>31.000000</td>\n",
              "    </tr>\n",
              "    <tr>\n",
              "      <th>max</th>\n",
              "      <td>891.000000</td>\n",
              "      <td>1.000000</td>\n",
              "      <td>3.000000</td>\n",
              "      <td>80.000000</td>\n",
              "      <td>8.000000</td>\n",
              "      <td>6.000000</td>\n",
              "      <td>512.329200</td>\n",
              "    </tr>\n",
              "  </tbody>\n",
              "</table>\n",
              "</div>"
            ],
            "text/plain": [
              "       PassengerId    Survived      Pclass  ...       SibSp       Parch        Fare\n",
              "count   891.000000  891.000000  891.000000  ...  891.000000  891.000000  891.000000\n",
              "mean    446.000000    0.383838    2.308642  ...    0.523008    0.381594   32.204208\n",
              "std     257.353842    0.486592    0.836071  ...    1.102743    0.806057   49.693429\n",
              "min       1.000000    0.000000    1.000000  ...    0.000000    0.000000    0.000000\n",
              "25%     223.500000    0.000000    2.000000  ...    0.000000    0.000000    7.910400\n",
              "50%     446.000000    0.000000    3.000000  ...    0.000000    0.000000   14.454200\n",
              "75%     668.500000    1.000000    3.000000  ...    1.000000    0.000000   31.000000\n",
              "max     891.000000    1.000000    3.000000  ...    8.000000    6.000000  512.329200\n",
              "\n",
              "[8 rows x 7 columns]"
            ]
          },
          "metadata": {
            "tags": []
          },
          "execution_count": 11
        }
      ]
    },
    {
      "cell_type": "code",
      "metadata": {
        "id": "34GqGRNACjsp",
        "colab_type": "code",
        "outputId": "541a66dc-c8ca-44de-bfb3-4625ac5af9e3",
        "colab": {
          "base_uri": "https://localhost:8080/",
          "height": 233
        }
      },
      "source": [
        "titanic_train.isnull().sum()"
      ],
      "execution_count": 12,
      "outputs": [
        {
          "output_type": "execute_result",
          "data": {
            "text/plain": [
              "PassengerId      0\n",
              "Survived         0\n",
              "Pclass           0\n",
              "Name             0\n",
              "Sex              0\n",
              "Age            177\n",
              "SibSp            0\n",
              "Parch            0\n",
              "Ticket           0\n",
              "Fare             0\n",
              "Cabin          687\n",
              "Embarked         2\n",
              "dtype: int64"
            ]
          },
          "metadata": {
            "tags": []
          },
          "execution_count": 12
        }
      ]
    },
    {
      "cell_type": "code",
      "metadata": {
        "id": "90aIi-RtCjsr",
        "colab_type": "code",
        "outputId": "bebae0c9-bca5-4904-81b4-795a6ede735d",
        "colab": {
          "base_uri": "https://localhost:8080/",
          "height": 217
        }
      },
      "source": [
        "titanic_test.isnull().sum()"
      ],
      "execution_count": 13,
      "outputs": [
        {
          "output_type": "execute_result",
          "data": {
            "text/plain": [
              "PassengerId      0\n",
              "Pclass           0\n",
              "Name             0\n",
              "Sex              0\n",
              "Age             86\n",
              "SibSp            0\n",
              "Parch            0\n",
              "Ticket           0\n",
              "Fare             1\n",
              "Cabin          327\n",
              "Embarked         0\n",
              "dtype: int64"
            ]
          },
          "metadata": {
            "tags": []
          },
          "execution_count": 13
        }
      ]
    },
    {
      "cell_type": "code",
      "metadata": {
        "id": "B8gsThBCCjsw",
        "colab_type": "code",
        "outputId": "276c20bb-d8b9-4e6e-c38f-dd6d17912046",
        "colab": {
          "base_uri": "https://localhost:8080/",
          "height": 587
        }
      },
      "source": [
        "complete_dataset = [titanic_train, titanic_test]\n",
        "for i in complete_dataset:\n",
        "    i['Title']=i.Name.str.extract(' ([A-Za-z]+)\\.', expand=False)\n",
        "pd.crosstab(titanic_train['Title'], titanic_train['Sex'])"
      ],
      "execution_count": 14,
      "outputs": [
        {
          "output_type": "execute_result",
          "data": {
            "text/html": [
              "<div>\n",
              "<style scoped>\n",
              "    .dataframe tbody tr th:only-of-type {\n",
              "        vertical-align: middle;\n",
              "    }\n",
              "\n",
              "    .dataframe tbody tr th {\n",
              "        vertical-align: top;\n",
              "    }\n",
              "\n",
              "    .dataframe thead th {\n",
              "        text-align: right;\n",
              "    }\n",
              "</style>\n",
              "<table border=\"1\" class=\"dataframe\">\n",
              "  <thead>\n",
              "    <tr style=\"text-align: right;\">\n",
              "      <th>Sex</th>\n",
              "      <th>female</th>\n",
              "      <th>male</th>\n",
              "    </tr>\n",
              "    <tr>\n",
              "      <th>Title</th>\n",
              "      <th></th>\n",
              "      <th></th>\n",
              "    </tr>\n",
              "  </thead>\n",
              "  <tbody>\n",
              "    <tr>\n",
              "      <th>Capt</th>\n",
              "      <td>0</td>\n",
              "      <td>1</td>\n",
              "    </tr>\n",
              "    <tr>\n",
              "      <th>Col</th>\n",
              "      <td>0</td>\n",
              "      <td>2</td>\n",
              "    </tr>\n",
              "    <tr>\n",
              "      <th>Countess</th>\n",
              "      <td>1</td>\n",
              "      <td>0</td>\n",
              "    </tr>\n",
              "    <tr>\n",
              "      <th>Don</th>\n",
              "      <td>0</td>\n",
              "      <td>1</td>\n",
              "    </tr>\n",
              "    <tr>\n",
              "      <th>Dr</th>\n",
              "      <td>1</td>\n",
              "      <td>6</td>\n",
              "    </tr>\n",
              "    <tr>\n",
              "      <th>Jonkheer</th>\n",
              "      <td>0</td>\n",
              "      <td>1</td>\n",
              "    </tr>\n",
              "    <tr>\n",
              "      <th>Lady</th>\n",
              "      <td>1</td>\n",
              "      <td>0</td>\n",
              "    </tr>\n",
              "    <tr>\n",
              "      <th>Major</th>\n",
              "      <td>0</td>\n",
              "      <td>2</td>\n",
              "    </tr>\n",
              "    <tr>\n",
              "      <th>Master</th>\n",
              "      <td>0</td>\n",
              "      <td>40</td>\n",
              "    </tr>\n",
              "    <tr>\n",
              "      <th>Miss</th>\n",
              "      <td>182</td>\n",
              "      <td>0</td>\n",
              "    </tr>\n",
              "    <tr>\n",
              "      <th>Mlle</th>\n",
              "      <td>2</td>\n",
              "      <td>0</td>\n",
              "    </tr>\n",
              "    <tr>\n",
              "      <th>Mme</th>\n",
              "      <td>1</td>\n",
              "      <td>0</td>\n",
              "    </tr>\n",
              "    <tr>\n",
              "      <th>Mr</th>\n",
              "      <td>0</td>\n",
              "      <td>517</td>\n",
              "    </tr>\n",
              "    <tr>\n",
              "      <th>Mrs</th>\n",
              "      <td>125</td>\n",
              "      <td>0</td>\n",
              "    </tr>\n",
              "    <tr>\n",
              "      <th>Ms</th>\n",
              "      <td>1</td>\n",
              "      <td>0</td>\n",
              "    </tr>\n",
              "    <tr>\n",
              "      <th>Rev</th>\n",
              "      <td>0</td>\n",
              "      <td>6</td>\n",
              "    </tr>\n",
              "    <tr>\n",
              "      <th>Sir</th>\n",
              "      <td>0</td>\n",
              "      <td>1</td>\n",
              "    </tr>\n",
              "  </tbody>\n",
              "</table>\n",
              "</div>"
            ],
            "text/plain": [
              "Sex       female  male\n",
              "Title                 \n",
              "Capt           0     1\n",
              "Col            0     2\n",
              "Countess       1     0\n",
              "Don            0     1\n",
              "Dr             1     6\n",
              "Jonkheer       0     1\n",
              "Lady           1     0\n",
              "Major          0     2\n",
              "Master         0    40\n",
              "Miss         182     0\n",
              "Mlle           2     0\n",
              "Mme            1     0\n",
              "Mr             0   517\n",
              "Mrs          125     0\n",
              "Ms             1     0\n",
              "Rev            0     6\n",
              "Sir            0     1"
            ]
          },
          "metadata": {
            "tags": []
          },
          "execution_count": 14
        }
      ]
    },
    {
      "cell_type": "markdown",
      "metadata": {
        "id": "qR2VaTrzCjtW",
        "colab_type": "text"
      },
      "source": [
        "### Missing value(s) imputation"
      ]
    },
    {
      "cell_type": "code",
      "metadata": {
        "id": "oI4DbqdUCjtX",
        "colab_type": "code",
        "outputId": "273accbd-0f43-4f78-de29-3023dbc5f240",
        "colab": {
          "base_uri": "https://localhost:8080/",
          "height": 250
        }
      },
      "source": [
        "titanic_train.isnull().sum()"
      ],
      "execution_count": 15,
      "outputs": [
        {
          "output_type": "execute_result",
          "data": {
            "text/plain": [
              "PassengerId      0\n",
              "Survived         0\n",
              "Pclass           0\n",
              "Name             0\n",
              "Sex              0\n",
              "Age            177\n",
              "SibSp            0\n",
              "Parch            0\n",
              "Ticket           0\n",
              "Fare             0\n",
              "Cabin          687\n",
              "Embarked         2\n",
              "Title            0\n",
              "dtype: int64"
            ]
          },
          "metadata": {
            "tags": []
          },
          "execution_count": 15
        }
      ]
    },
    {
      "cell_type": "code",
      "metadata": {
        "id": "FUn8Jr0-HmvN",
        "colab_type": "code",
        "colab": {}
      },
      "source": [
        "titanic_train['cabin_end'] = np.where(titanic_train['Cabin'].notnull(),1,0)"
      ],
      "execution_count": 0,
      "outputs": []
    },
    {
      "cell_type": "code",
      "metadata": {
        "id": "Tscy6m-QIEoV",
        "colab_type": "code",
        "colab": {
          "base_uri": "https://localhost:8080/",
          "height": 117
        },
        "outputId": "e5d68c8a-ad0f-48ac-cebf-b237879df5fa"
      },
      "source": [
        "titanic_train['cabin_end'].head()"
      ],
      "execution_count": 17,
      "outputs": [
        {
          "output_type": "execute_result",
          "data": {
            "text/plain": [
              "0    0\n",
              "1    1\n",
              "2    0\n",
              "3    1\n",
              "4    0\n",
              "Name: cabin_end, dtype: int64"
            ]
          },
          "metadata": {
            "tags": []
          },
          "execution_count": 17
        }
      ]
    },
    {
      "cell_type": "code",
      "metadata": {
        "id": "ROopA89jCjta",
        "colab_type": "code",
        "outputId": "a8999e6a-d395-4178-cb25-42d285d7cad1",
        "colab": {
          "base_uri": "https://localhost:8080/",
          "height": 107
        }
      },
      "source": [
        "titanic_train[titanic_train['Embarked'].isnull()]"
      ],
      "execution_count": 19,
      "outputs": [
        {
          "output_type": "execute_result",
          "data": {
            "text/html": [
              "<div>\n",
              "<style scoped>\n",
              "    .dataframe tbody tr th:only-of-type {\n",
              "        vertical-align: middle;\n",
              "    }\n",
              "\n",
              "    .dataframe tbody tr th {\n",
              "        vertical-align: top;\n",
              "    }\n",
              "\n",
              "    .dataframe thead th {\n",
              "        text-align: right;\n",
              "    }\n",
              "</style>\n",
              "<table border=\"1\" class=\"dataframe\">\n",
              "  <thead>\n",
              "    <tr style=\"text-align: right;\">\n",
              "      <th></th>\n",
              "      <th>PassengerId</th>\n",
              "      <th>Survived</th>\n",
              "      <th>Pclass</th>\n",
              "      <th>Name</th>\n",
              "      <th>Sex</th>\n",
              "      <th>Age</th>\n",
              "      <th>SibSp</th>\n",
              "      <th>Parch</th>\n",
              "      <th>Ticket</th>\n",
              "      <th>Fare</th>\n",
              "      <th>Cabin</th>\n",
              "      <th>Embarked</th>\n",
              "      <th>Title</th>\n",
              "      <th>cabin_end</th>\n",
              "    </tr>\n",
              "  </thead>\n",
              "  <tbody>\n",
              "    <tr>\n",
              "      <th>61</th>\n",
              "      <td>62</td>\n",
              "      <td>1</td>\n",
              "      <td>1</td>\n",
              "      <td>Icard, Miss. Amelie</td>\n",
              "      <td>female</td>\n",
              "      <td>38.0</td>\n",
              "      <td>0</td>\n",
              "      <td>0</td>\n",
              "      <td>113572</td>\n",
              "      <td>80.0</td>\n",
              "      <td>B28</td>\n",
              "      <td>NaN</td>\n",
              "      <td>Miss</td>\n",
              "      <td>1</td>\n",
              "    </tr>\n",
              "    <tr>\n",
              "      <th>829</th>\n",
              "      <td>830</td>\n",
              "      <td>1</td>\n",
              "      <td>1</td>\n",
              "      <td>Stone, Mrs. George Nelson (Martha Evelyn)</td>\n",
              "      <td>female</td>\n",
              "      <td>62.0</td>\n",
              "      <td>0</td>\n",
              "      <td>0</td>\n",
              "      <td>113572</td>\n",
              "      <td>80.0</td>\n",
              "      <td>B28</td>\n",
              "      <td>NaN</td>\n",
              "      <td>Mrs</td>\n",
              "      <td>1</td>\n",
              "    </tr>\n",
              "  </tbody>\n",
              "</table>\n",
              "</div>"
            ],
            "text/plain": [
              "     PassengerId  Survived  Pclass  ... Embarked Title  cabin_end\n",
              "61            62         1       1  ...      NaN  Miss          1\n",
              "829          830         1       1  ...      NaN   Mrs          1\n",
              "\n",
              "[2 rows x 14 columns]"
            ]
          },
          "metadata": {
            "tags": []
          },
          "execution_count": 19
        }
      ]
    },
    {
      "cell_type": "code",
      "metadata": {
        "id": "99VEWAfzCjtb",
        "colab_type": "code",
        "outputId": "ed496240-3c46-4323-cc8b-068354617cce",
        "colab": {
          "base_uri": "https://localhost:8080/",
          "height": 47
        }
      },
      "source": [
        "titanic_test[titanic_test['Embarked'].isnull()]"
      ],
      "execution_count": 20,
      "outputs": [
        {
          "output_type": "execute_result",
          "data": {
            "text/html": [
              "<div>\n",
              "<style scoped>\n",
              "    .dataframe tbody tr th:only-of-type {\n",
              "        vertical-align: middle;\n",
              "    }\n",
              "\n",
              "    .dataframe tbody tr th {\n",
              "        vertical-align: top;\n",
              "    }\n",
              "\n",
              "    .dataframe thead th {\n",
              "        text-align: right;\n",
              "    }\n",
              "</style>\n",
              "<table border=\"1\" class=\"dataframe\">\n",
              "  <thead>\n",
              "    <tr style=\"text-align: right;\">\n",
              "      <th></th>\n",
              "      <th>PassengerId</th>\n",
              "      <th>Pclass</th>\n",
              "      <th>Name</th>\n",
              "      <th>Sex</th>\n",
              "      <th>Age</th>\n",
              "      <th>SibSp</th>\n",
              "      <th>Parch</th>\n",
              "      <th>Ticket</th>\n",
              "      <th>Fare</th>\n",
              "      <th>Cabin</th>\n",
              "      <th>Embarked</th>\n",
              "      <th>Title</th>\n",
              "    </tr>\n",
              "  </thead>\n",
              "  <tbody>\n",
              "  </tbody>\n",
              "</table>\n",
              "</div>"
            ],
            "text/plain": [
              "Empty DataFrame\n",
              "Columns: [PassengerId, Pclass, Name, Sex, Age, SibSp, Parch, Ticket, Fare, Cabin, Embarked, Title]\n",
              "Index: []"
            ]
          },
          "metadata": {
            "tags": []
          },
          "execution_count": 20
        }
      ]
    },
    {
      "cell_type": "code",
      "metadata": {
        "id": "1o0F131zCjtc",
        "colab_type": "code",
        "outputId": "32b3ad66-b9c1-4612-a4eb-a628e225928b",
        "colab": {
          "base_uri": "https://localhost:8080/",
          "height": 279
        }
      },
      "source": [
        "sns.boxplot(x='Embarked',y='Fare',hue='Pclass',data=titanic_train)\n",
        "plt.grid(color='black')"
      ],
      "execution_count": 21,
      "outputs": [
        {
          "output_type": "display_data",
          "data": {
            "image/png": "[encoded data removed]",
            "text/plain": [
              "<Figure size 432x288 with 1 Axes>"
            ]
          },
          "metadata": {
            "tags": []
          }
        }
      ]
    },
    {
      "cell_type": "markdown",
      "metadata": {
        "id": "iCSofWhlCjte",
        "colab_type": "text"
      },
      "source": [
        "The following conclusion can be drawn:\n",
        "* According to the missing Embarked both are of Pclass = 1\n",
        "* According to boxplot, the median fare of Pclass = 1 is around 80$ for board C\n",
        "* The missing Embarked should be fill with the board C "
      ]
    },
    {
      "cell_type": "code",
      "metadata": {
        "id": "wTrk8_fkCjtf",
        "colab_type": "code",
        "colab": {}
      },
      "source": [
        "titanic_train['Embarked']=titanic_train['Embarked'].fillna('C')"
      ],
      "execution_count": 0,
      "outputs": []
    },
    {
      "cell_type": "code",
      "metadata": {
        "id": "UQNPyNHVCjtg",
        "colab_type": "code",
        "outputId": "5f30d530-aa7d-4349-94f5-58bf1a92582c",
        "colab": {
          "base_uri": "https://localhost:8080/",
          "height": 267
        }
      },
      "source": [
        "titanic_train.isnull().sum()"
      ],
      "execution_count": 23,
      "outputs": [
        {
          "output_type": "execute_result",
          "data": {
            "text/plain": [
              "PassengerId      0\n",
              "Survived         0\n",
              "Pclass           0\n",
              "Name             0\n",
              "Sex              0\n",
              "Age            177\n",
              "SibSp            0\n",
              "Parch            0\n",
              "Ticket           0\n",
              "Fare             0\n",
              "Cabin          687\n",
              "Embarked         0\n",
              "Title            0\n",
              "cabin_end        0\n",
              "dtype: int64"
            ]
          },
          "metadata": {
            "tags": []
          },
          "execution_count": 23
        }
      ]
    },
    {
      "cell_type": "code",
      "metadata": {
        "id": "bFCf-2RRCjti",
        "colab_type": "code",
        "outputId": "0c1d9018-c797-4670-8756-95fe5a6a578c",
        "colab": {
          "base_uri": "https://localhost:8080/",
          "height": 233
        }
      },
      "source": [
        "titanic_test.isnull().sum()"
      ],
      "execution_count": 24,
      "outputs": [
        {
          "output_type": "execute_result",
          "data": {
            "text/plain": [
              "PassengerId      0\n",
              "Pclass           0\n",
              "Name             0\n",
              "Sex              0\n",
              "Age             86\n",
              "SibSp            0\n",
              "Parch            0\n",
              "Ticket           0\n",
              "Fare             1\n",
              "Cabin          327\n",
              "Embarked         0\n",
              "Title            0\n",
              "dtype: int64"
            ]
          },
          "metadata": {
            "tags": []
          },
          "execution_count": 24
        }
      ]
    },
    {
      "cell_type": "code",
      "metadata": {
        "id": "RTR4OdegCjtj",
        "colab_type": "code",
        "outputId": "1085c286-7232-4aab-8578-df341e3fc1c9",
        "colab": {
          "base_uri": "https://localhost:8080/",
          "height": 77
        }
      },
      "source": [
        "titanic_test[titanic_test['Fare'].isnull()]"
      ],
      "execution_count": 25,
      "outputs": [
        {
          "output_type": "execute_result",
          "data": {
            "text/html": [
              "<div>\n",
              "<style scoped>\n",
              "    .dataframe tbody tr th:only-of-type {\n",
              "        vertical-align: middle;\n",
              "    }\n",
              "\n",
              "    .dataframe tbody tr th {\n",
              "        vertical-align: top;\n",
              "    }\n",
              "\n",
              "    .dataframe thead th {\n",
              "        text-align: right;\n",
              "    }\n",
              "</style>\n",
              "<table border=\"1\" class=\"dataframe\">\n",
              "  <thead>\n",
              "    <tr style=\"text-align: right;\">\n",
              "      <th></th>\n",
              "      <th>PassengerId</th>\n",
              "      <th>Pclass</th>\n",
              "      <th>Name</th>\n",
              "      <th>Sex</th>\n",
              "      <th>Age</th>\n",
              "      <th>SibSp</th>\n",
              "      <th>Parch</th>\n",
              "      <th>Ticket</th>\n",
              "      <th>Fare</th>\n",
              "      <th>Cabin</th>\n",
              "      <th>Embarked</th>\n",
              "      <th>Title</th>\n",
              "    </tr>\n",
              "  </thead>\n",
              "  <tbody>\n",
              "    <tr>\n",
              "      <th>152</th>\n",
              "      <td>1044</td>\n",
              "      <td>3</td>\n",
              "      <td>Storey, Mr. Thomas</td>\n",
              "      <td>male</td>\n",
              "      <td>60.5</td>\n",
              "      <td>0</td>\n",
              "      <td>0</td>\n",
              "      <td>3701</td>\n",
              "      <td>NaN</td>\n",
              "      <td>NaN</td>\n",
              "      <td>S</td>\n",
              "      <td>Mr</td>\n",
              "    </tr>\n",
              "  </tbody>\n",
              "</table>\n",
              "</div>"
            ],
            "text/plain": [
              "     PassengerId  Pclass                Name   Sex  ...  Fare  Cabin  Embarked Title\n",
              "152         1044       3  Storey, Mr. Thomas  male  ...   NaN    NaN         S    Mr\n",
              "\n",
              "[1 rows x 12 columns]"
            ]
          },
          "metadata": {
            "tags": []
          },
          "execution_count": 25
        }
      ]
    },
    {
      "cell_type": "code",
      "metadata": {
        "id": "Fu3k9Rz0Cjtk",
        "colab_type": "code",
        "colab": {}
      },
      "source": [
        "fare = titanic_test[(titanic_test['Pclass']==3)&(titanic_test['Embarked']=='S')]['Fare'].median()"
      ],
      "execution_count": 0,
      "outputs": []
    },
    {
      "cell_type": "code",
      "metadata": {
        "id": "MIL2drfnCjtm",
        "colab_type": "code",
        "colab": {}
      },
      "source": [
        "titanic_test['Fare']=titanic_test['Fare'].fillna(fare)"
      ],
      "execution_count": 0,
      "outputs": []
    },
    {
      "cell_type": "code",
      "metadata": {
        "id": "KOCOwSZ7Cjto",
        "colab_type": "code",
        "outputId": "7da343a1-e7ad-43eb-db0d-0bb6c866b759",
        "colab": {
          "base_uri": "https://localhost:8080/",
          "height": 233
        }
      },
      "source": [
        "titanic_test.isnull().sum()"
      ],
      "execution_count": 28,
      "outputs": [
        {
          "output_type": "execute_result",
          "data": {
            "text/plain": [
              "PassengerId      0\n",
              "Pclass           0\n",
              "Name             0\n",
              "Sex              0\n",
              "Age             86\n",
              "SibSp            0\n",
              "Parch            0\n",
              "Ticket           0\n",
              "Fare             0\n",
              "Cabin          327\n",
              "Embarked         0\n",
              "Title            0\n",
              "dtype: int64"
            ]
          },
          "metadata": {
            "tags": []
          },
          "execution_count": 28
        }
      ]
    },
    {
      "cell_type": "markdown",
      "metadata": {
        "id": "uMpp_r4mCjts",
        "colab_type": "text"
      },
      "source": [
        "## Features\n",
        "All the assigned cabin codes contains the floor code with first character"
      ]
    },
    {
      "cell_type": "code",
      "metadata": {
        "id": "6yoVs7d6Cjts",
        "colab_type": "code",
        "outputId": "73c75bf8-b20e-4065-f4fc-95244843c79b",
        "colab": {}
      },
      "source": [
        "titanic_train['Cabin'][titanic_train['Cabin'].notnull()].head()"
      ],
      "execution_count": 0,
      "outputs": [
        {
          "output_type": "execute_result",
          "data": {
            "text/plain": [
              "1      C85\n",
              "3     C123\n",
              "6      E46\n",
              "10      G6\n",
              "11    C103\n",
              "Name: Cabin, dtype: object"
            ]
          },
          "metadata": {
            "tags": []
          },
          "execution_count": 308
        }
      ]
    },
    {
      "cell_type": "code",
      "metadata": {
        "id": "BqJlEoO4Cjtu",
        "colab_type": "code",
        "outputId": "31252584-5eca-488c-acda-8cdbdb55a695",
        "colab": {}
      },
      "source": [
        "titanic_train['Cabin'][titanic_train['Cabin'].str[0]=='T']"
      ],
      "execution_count": 0,
      "outputs": [
        {
          "output_type": "execute_result",
          "data": {
            "text/plain": [
              "339    T\n",
              "Name: Cabin, dtype: object"
            ]
          },
          "metadata": {
            "tags": []
          },
          "execution_count": 309
        }
      ]
    },
    {
      "cell_type": "code",
      "metadata": {
        "id": "OVMxv1TsCjtv",
        "colab_type": "code",
        "colab": {}
      },
      "source": [
        "titanic_train['Floor']=titanic_train['Cabin'].str[0]\n",
        "titanic_test['Floor']=titanic_train['Cabin'].str[0]"
      ],
      "execution_count": 0,
      "outputs": []
    },
    {
      "cell_type": "code",
      "metadata": {
        "id": "EVhxTMlDCjtx",
        "colab_type": "code",
        "outputId": "416a21bd-8c74-4afa-9ccd-007b966aa220",
        "colab": {}
      },
      "source": [
        "titanic_train['Floor'].unique()"
      ],
      "execution_count": 0,
      "outputs": [
        {
          "output_type": "execute_result",
          "data": {
            "text/plain": [
              "array([nan, 'C', 'E', 'G', 'D', 'A', 'B', 'F', 'T'], dtype=object)"
            ]
          },
          "metadata": {
            "tags": []
          },
          "execution_count": 311
        }
      ]
    },
    {
      "cell_type": "code",
      "metadata": {
        "id": "gVDiZQ15Cjtz",
        "colab_type": "code",
        "outputId": "f72505fe-9906-45dc-bd3c-737f310a7a03",
        "colab": {}
      },
      "source": [
        "titanic_test['Floor'].unique()"
      ],
      "execution_count": 0,
      "outputs": [
        {
          "output_type": "execute_result",
          "data": {
            "text/plain": [
              "array([nan, 'C', 'E', 'G', 'D', 'A', 'B', 'F', 'T'], dtype=object)"
            ]
          },
          "metadata": {
            "tags": []
          },
          "execution_count": 312
        }
      ]
    },
    {
      "cell_type": "code",
      "metadata": {
        "id": "rBst4WI2Cjt0",
        "colab_type": "code",
        "outputId": "3b382993-68a2-49fd-8ef9-75d8e2e6b3e2",
        "colab": {}
      },
      "source": [
        "sns.catplot(\"Survived\", col=\"Floor\", col_wrap=4,\n",
        "                    data=titanic_train[titanic_train.Floor.notnull()],\n",
        "                    kind=\"count\", height=2.5, aspect=.8)"
      ],
      "execution_count": 0,
      "outputs": [
        {
          "output_type": "execute_result",
          "data": {
            "text/plain": [
              "<seaborn.axisgrid.FacetGrid at 0x13f23cb56d8>"
            ]
          },
          "metadata": {
            "tags": []
          },
          "execution_count": 313
        },
        {
          "output_type": "display_data",
          "data": {
            "image/png": "[encoded data removed]",
            "text/plain": [
              "<Figure size 576x360 with 8 Axes>"
            ]
          },
          "metadata": {
            "tags": [],
            "needs_background": "light"
          }
        }
      ]
    },
    {
      "cell_type": "code",
      "metadata": {
        "id": "TEotezR1Cjt1",
        "colab_type": "code",
        "outputId": "5628e07f-2e18-42ed-e5c7-beffaeba13e7",
        "colab": {}
      },
      "source": [
        "g = sns.FacetGrid(titanic_train, col=\"Pclass\", sharex=False,\n",
        "                  gridspec_kws={\"width_ratios\": [5, 3, 3]})\n",
        "g.map(sns.boxplot, \"Floor\", \"Age\")"
      ],
      "execution_count": 0,
      "outputs": [
        {
          "output_type": "stream",
          "text": [
            "C:\\Users\\hp\\Anaconda3\\lib\\site-packages\\seaborn\\axisgrid.py:715: UserWarning: Using the boxplot function without specifying `order` is likely to produce an incorrect plot.\n",
            "  warnings.warn(warning)\n"
          ],
          "name": "stderr"
        },
        {
          "output_type": "execute_result",
          "data": {
            "text/plain": [
              "<seaborn.axisgrid.FacetGrid at 0x13f23e9dda0>"
            ]
          },
          "metadata": {
            "tags": []
          },
          "execution_count": 314
        },
        {
          "output_type": "display_data",
          "data": {
            "image/png": "[encoded data removed]",
            "text/plain": [
              "<Figure size 648x216 with 3 Axes>"
            ]
          },
          "metadata": {
            "tags": [],
            "needs_background": "light"
          }
        }
      ]
    },
    {
      "cell_type": "code",
      "metadata": {
        "id": "ds3HxsrhCjt3",
        "colab_type": "code",
        "outputId": "ecb782cc-8e13-4bad-9d6a-fc0f38d6b666",
        "colab": {}
      },
      "source": [
        "titanic_train['Floor'].fillna('Z',inplace=True)\n",
        "titanic_test['Floor'].fillna('Z',inplace=True)\n",
        "titanic_train['Floor'].unique()"
      ],
      "execution_count": 0,
      "outputs": [
        {
          "output_type": "execute_result",
          "data": {
            "text/plain": [
              "array(['Z', 'C', 'E', 'G', 'D', 'A', 'B', 'F', 'T'], dtype=object)"
            ]
          },
          "metadata": {
            "tags": []
          },
          "execution_count": 315
        }
      ]
    },
    {
      "cell_type": "markdown",
      "metadata": {
        "id": "cRBAO-FbCjt5",
        "colab_type": "text"
      },
      "source": [
        "Survival of people based upon the Sex: **Sex as a feature**"
      ]
    },
    {
      "cell_type": "code",
      "metadata": {
        "id": "DHeygVNYCjt6",
        "colab_type": "code",
        "outputId": "d21649a9-7b02-4fb0-bb56-37d21adba3e3",
        "colab": {}
      },
      "source": [
        "sns.barplot(x='Sex',y='Survived',data=titanic_train)"
      ],
      "execution_count": 0,
      "outputs": [
        {
          "output_type": "execute_result",
          "data": {
            "text/plain": [
              "<matplotlib.axes._subplots.AxesSubplot at 0x13f233e58d0>"
            ]
          },
          "metadata": {
            "tags": []
          },
          "execution_count": 316
        },
        {
          "output_type": "display_data",
          "data": {
            "image/png": "[encoded data removed]",
            "text/plain": [
              "<Figure size 432x288 with 1 Axes>"
            ]
          },
          "metadata": {
            "tags": [],
            "needs_background": "light"
          }
        }
      ]
    },
    {
      "cell_type": "code",
      "metadata": {
        "id": "kXLcHIMjCjt7",
        "colab_type": "code",
        "outputId": "5e3aa7ba-2de8-4c08-ca67-11d0e2cedf31",
        "colab": {}
      },
      "source": [
        "print('Male Survived   : ',titanic_train['Survived'][titanic_train['Sex']=='male'].value_counts(normalize=True)[1]*100,'%')\n",
        "print('Female Survived : ',titanic_train['Survived'][titanic_train['Sex']=='female'].value_counts(normalize=True)[1]*100,'%')"
      ],
      "execution_count": 0,
      "outputs": [
        {
          "output_type": "stream",
          "text": [
            "Male Survived   :  18.890814558058924 %\n",
            "Female Survived :  74.20382165605095 %\n"
          ],
          "name": "stdout"
        }
      ]
    },
    {
      "cell_type": "markdown",
      "metadata": {
        "id": "T9E9A0gQCjt8",
        "colab_type": "text"
      },
      "source": [
        "**Family as a feature**"
      ]
    },
    {
      "cell_type": "code",
      "metadata": {
        "id": "Vr66KVbbCjt9",
        "colab_type": "code",
        "outputId": "bc2a6cc6-27ae-4303-b29e-d9b8bcb081b9",
        "colab": {}
      },
      "source": [
        "for col in ['SibSp','Parch']:\n",
        "    sns.catplot(x=col,y='Survived',data=titanic_train,kind='point',aspect=2) #vertical line shows the error"
      ],
      "execution_count": 0,
      "outputs": [
        {
          "output_type": "display_data",
          "data": {
            "image/png": "[encoded data removed]",
            "text/plain": [
              "<Figure size 720x360 with 1 Axes>"
            ]
          },
          "metadata": {
            "tags": [],
            "needs_background": "light"
          }
        },
        {
          "output_type": "display_data",
          "data": {
            "image/png": "[encoded data removed]",
            "text/plain": [
              "<Figure size 720x360 with 1 Axes>"
            ]
          },
          "metadata": {
            "tags": [],
            "needs_background": "light"
          }
        }
      ]
    },
    {
      "cell_type": "code",
      "metadata": {
        "id": "xIKU-GqZCjt-",
        "colab_type": "code",
        "outputId": "6449f556-d67d-4a7e-90fd-e7d142679b18",
        "colab": {}
      },
      "source": [
        "sns.regplot(x=titanic_train['SibSp'],y=titanic_train['Parch'])"
      ],
      "execution_count": 0,
      "outputs": [
        {
          "output_type": "execute_result",
          "data": {
            "text/plain": [
              "<matplotlib.axes._subplots.AxesSubplot at 0x13f22fd7b38>"
            ]
          },
          "metadata": {
            "tags": []
          },
          "execution_count": 319
        },
        {
          "output_type": "display_data",
          "data": {
            "image/png": "[encoded data removed]",
            "text/plain": [
              "<Figure size 432x288 with 1 Axes>"
            ]
          },
          "metadata": {
            "tags": [],
            "needs_background": "light"
          }
        }
      ]
    },
    {
      "cell_type": "markdown",
      "metadata": {
        "id": "5FhaMWZYCjt_",
        "colab_type": "text"
      },
      "source": [
        "* It is found that the people having large family(Parch) and more siblings(Sibsp) were less likely to survive."
      ]
    },
    {
      "cell_type": "code",
      "metadata": {
        "id": "DSIEQTRXCjt_",
        "colab_type": "code",
        "outputId": "3e71d091-ca17-4b9b-ac52-acb1bdc03be2",
        "colab": {}
      },
      "source": [
        "from scipy import stats\n",
        "pearson_coeff,p_value=stats.pearsonr(titanic_train['SibSp'],titanic_train['Parch'])\n",
        "print(pearson_coeff,p_value)"
      ],
      "execution_count": 0,
      "outputs": [
        {
          "output_type": "stream",
          "text": [
            "0.4148376986201561 2.2418236681398336e-38\n"
          ],
          "name": "stdout"
        }
      ]
    },
    {
      "cell_type": "markdown",
      "metadata": {
        "id": "0QDtGK_5CjuA",
        "colab_type": "text"
      },
      "source": [
        "**Class as a feature**"
      ]
    },
    {
      "cell_type": "code",
      "metadata": {
        "id": "o4eNzKHbCjuA",
        "colab_type": "code",
        "outputId": "77d43c77-d2a0-4a99-f095-1dbe7404136f",
        "colab": {}
      },
      "source": [
        "sns.barplot(x='Pclass',y='Survived',data=titanic_train)"
      ],
      "execution_count": 0,
      "outputs": [
        {
          "output_type": "execute_result",
          "data": {
            "text/plain": [
              "<matplotlib.axes._subplots.AxesSubplot at 0x13f1e720da0>"
            ]
          },
          "metadata": {
            "tags": []
          },
          "execution_count": 321
        },
        {
          "output_type": "display_data",
          "data": {
            "image/png": "[encoded data removed]",
            "text/plain": [
              "<Figure size 432x288 with 1 Axes>"
            ]
          },
          "metadata": {
            "tags": [],
            "needs_background": "light"
          }
        }
      ]
    },
    {
      "cell_type": "code",
      "metadata": {
        "id": "TeLqTLQxCjuB",
        "colab_type": "code",
        "outputId": "090325f5-a2ff-4be9-fb32-a65a53a96a25",
        "colab": {}
      },
      "source": [
        "sns.catplot(x='Pclass',y='Survived',data=titanic_train,kind='point',aspect=2)"
      ],
      "execution_count": 0,
      "outputs": [
        {
          "output_type": "execute_result",
          "data": {
            "text/plain": [
              "<seaborn.axisgrid.FacetGrid at 0x13f2318bba8>"
            ]
          },
          "metadata": {
            "tags": []
          },
          "execution_count": 322
        },
        {
          "output_type": "display_data",
          "data": {
            "image/png": "[encoded data removed]",
            "text/plain": [
              "<Figure size 720x360 with 1 Axes>"
            ]
          },
          "metadata": {
            "tags": [],
            "needs_background": "light"
          }
        }
      ]
    },
    {
      "cell_type": "code",
      "metadata": {
        "id": "4ZghMDq_CjuF",
        "colab_type": "code",
        "outputId": "fb8bf41c-8142-4a0f-9509-42a3e89f439c",
        "colab": {}
      },
      "source": [
        "print('Pclass=1 Survived :',titanic_train['Survived'][titanic_train['Pclass']==1].value_counts(normalize=True)[1]*100,'%')\n",
        "print('Pclass=2 Survived :',titanic_train['Survived'][titanic_train['Pclass']==2].value_counts(normalize=True)[1]*100,'%')\n",
        "print('Pclass=3 Survived :',titanic_train['Survived'][titanic_train['Pclass']==3].value_counts(normalize=True)[1]*100,'%')"
      ],
      "execution_count": 0,
      "outputs": [
        {
          "output_type": "stream",
          "text": [
            "Pclass=1 Survived : 62.96296296296296 %\n",
            "Pclass=2 Survived : 47.28260869565217 %\n",
            "Pclass=3 Survived : 24.236252545824847 %\n"
          ],
          "name": "stdout"
        }
      ]
    },
    {
      "cell_type": "markdown",
      "metadata": {
        "id": "i7_nlgk1CjuG",
        "colab_type": "text"
      },
      "source": [
        "**Cabin as a feature**"
      ]
    },
    {
      "cell_type": "code",
      "metadata": {
        "id": "tSRlROwqCjuG",
        "colab_type": "code",
        "outputId": "39469228-e6fc-49cb-ded6-6d50d56c221f",
        "colab": {}
      },
      "source": [
        "sns.catplot(x='cabin_end',y='Survived',data=titanic_train,kind='point',aspect=2)"
      ],
      "execution_count": 0,
      "outputs": [
        {
          "output_type": "execute_result",
          "data": {
            "text/plain": [
              "<seaborn.axisgrid.FacetGrid at 0x13f23c5a2b0>"
            ]
          },
          "metadata": {
            "tags": []
          },
          "execution_count": 324
        },
        {
          "output_type": "display_data",
          "data": {
            "image/png": "[encoded data removed]",
            "text/plain": [
              "<Figure size 720x360 with 1 Axes>"
            ]
          },
          "metadata": {
            "tags": [],
            "needs_background": "light"
          }
        }
      ]
    },
    {
      "cell_type": "code",
      "metadata": {
        "id": "zbD-H44fCjuI",
        "colab_type": "code",
        "outputId": "93df4d01-fbb3-4da6-ecea-7457e162a7ad",
        "colab": {}
      },
      "source": [
        "print('Survived people with assigned cabin     :',\n",
        "      titanic_train['Survived'][titanic_train['cabin_end']==1].value_counts(normalize=True)[1]*100,'%')\n",
        "print('Survived people with non-assigned cabin :',\n",
        "      titanic_train['Survived'][titanic_train['cabin_end']==0].value_counts(normalize=True)[1]*100,'%')"
      ],
      "execution_count": 0,
      "outputs": [
        {
          "output_type": "stream",
          "text": [
            "Survived people with assigned cabin     : 66.66666666666666 %\n",
            "Survived people with non-assigned cabin : 29.985443959243085 %\n"
          ],
          "name": "stdout"
        }
      ]
    },
    {
      "cell_type": "code",
      "metadata": {
        "id": "mjjADwkfCjuJ",
        "colab_type": "code",
        "outputId": "b62f9090-bc1d-45f5-b309-0068841e9275",
        "colab": {}
      },
      "source": [
        "print('Survived female without assigned cabin :',\n",
        "      titanic_train['Survived'][(titanic_train['Sex']=='female')&(titanic_train['cabin_end']==0)]\n",
        "      .value_counts(normalize=True)[1]*100,'%')"
      ],
      "execution_count": 0,
      "outputs": [
        {
          "output_type": "stream",
          "text": [
            "Survived female without assigned cabin : 65.43778801843318 %\n"
          ],
          "name": "stdout"
        }
      ]
    },
    {
      "cell_type": "code",
      "metadata": {
        "id": "tv5IYFOpCjuK",
        "colab_type": "code",
        "outputId": "a875b50a-03ef-4768-ad98-3357fca5d098",
        "colab": {}
      },
      "source": [
        "print('Survived female without assigned cabin and Pclass=3 :',\n",
        "      titanic_train['Survived'][(titanic_train['Sex']=='female')&(titanic_train['cabin_end']==0)&(titanic_train['Pclass']==3)]\n",
        "      .value_counts(normalize=True)[1]*100,'%')"
      ],
      "execution_count": 0,
      "outputs": [
        {
          "output_type": "stream",
          "text": [
            "Survived female without assigned cabin and Pclass=3 : 49.275362318840585 %\n"
          ],
          "name": "stdout"
        }
      ]
    },
    {
      "cell_type": "code",
      "metadata": {
        "id": "UIr2tgi0CjuL",
        "colab_type": "code",
        "outputId": "c7ea8b8d-6eb1-4118-871b-447a20e7d56a",
        "colab": {}
      },
      "source": [
        "print('Survived male without assigned cabin and Pclass=3 :',\n",
        "      titanic_train['Survived'][(titanic_train['Sex']=='male')&(titanic_train['cabin_end']==0)&(titanic_train['Pclass']==3)]\n",
        "      .value_counts(normalize=True)[1]*100,'%')"
      ],
      "execution_count": 0,
      "outputs": [
        {
          "output_type": "stream",
          "text": [
            "Survived male without assigned cabin and Pclass=3 : 13.196480938416421 %\n"
          ],
          "name": "stdout"
        }
      ]
    },
    {
      "cell_type": "code",
      "metadata": {
        "id": "8hE0SDWmCjuM",
        "colab_type": "code",
        "outputId": "714763ac-e0c3-4b78-d639-13007db131b9",
        "colab": {}
      },
      "source": [
        "sns.regplot(titanic_train['cabin_end']==1,titanic_train['Pclass']==1)"
      ],
      "execution_count": 0,
      "outputs": [
        {
          "output_type": "execute_result",
          "data": {
            "text/plain": [
              "<matplotlib.axes._subplots.AxesSubplot at 0x13f235113c8>"
            ]
          },
          "metadata": {
            "tags": []
          },
          "execution_count": 329
        },
        {
          "output_type": "display_data",
          "data": {
            "image/png": "[encoded data removed]",
            "text/plain": [
              "<Figure size 432x288 with 1 Axes>"
            ]
          },
          "metadata": {
            "tags": [],
            "needs_background": "light"
          }
        }
      ]
    },
    {
      "cell_type": "code",
      "metadata": {
        "id": "bEgyfZWVCjuQ",
        "colab_type": "code",
        "outputId": "50e4ec4c-dbdc-4d4b-9e94-ea01be9b2617",
        "colab": {}
      },
      "source": [
        "pearson_coeff,p_value = stats.pearsonr(titanic_train['cabin_end']==1,titanic_train['Pclass']==1)\n",
        "print(pearson_coeff,p_value)"
      ],
      "execution_count": 0,
      "outputs": [
        {
          "output_type": "stream",
          "text": [
            "0.7887730068967491 4.385671944937056e-190\n"
          ],
          "name": "stdout"
        }
      ]
    },
    {
      "cell_type": "markdown",
      "metadata": {
        "id": "d66zOCWNCjuR",
        "colab_type": "text"
      },
      "source": [
        "**Embarked as a feature**"
      ]
    },
    {
      "cell_type": "code",
      "metadata": {
        "id": "z8OTYEiwCjuS",
        "colab_type": "code",
        "outputId": "07d24320-625f-4f50-c6a4-b2e8b31bc637",
        "colab": {}
      },
      "source": [
        "sns.catplot(x='Embarked',y='Survived',data=titanic_train,kind='point',aspect=2)"
      ],
      "execution_count": 0,
      "outputs": [
        {
          "output_type": "execute_result",
          "data": {
            "text/plain": [
              "<seaborn.axisgrid.FacetGrid at 0x13f2351ec18>"
            ]
          },
          "metadata": {
            "tags": []
          },
          "execution_count": 331
        },
        {
          "output_type": "display_data",
          "data": {
            "image/png": "[encoded data removed]",
            "text/plain": [
              "<Figure size 720x360 with 1 Axes>"
            ]
          },
          "metadata": {
            "tags": [],
            "needs_background": "light"
          }
        }
      ]
    },
    {
      "cell_type": "code",
      "metadata": {
        "id": "uUFwPxHwCjuV",
        "colab_type": "code",
        "outputId": "7a730ed7-565e-47ef-f75c-fbca0846795e",
        "colab": {}
      },
      "source": [
        "print('Survived people with Embarked S :',\n",
        "      titanic_train['Survived'][titanic_train['Embarked']=='S'].value_counts(normalize=True)[1]*100,'%')\n",
        "print('Survived people with Embarked C :',\n",
        "      titanic_train['Survived'][titanic_train['Embarked']=='C'].value_counts(normalize=True)[1]*100,'%')\n",
        "print('Survived people with Embarked Q :',\n",
        "      titanic_train['Survived'][titanic_train['Embarked']=='Q'].value_counts(normalize=True)[1]*100,'%')"
      ],
      "execution_count": 0,
      "outputs": [
        {
          "output_type": "stream",
          "text": [
            "Survived people with Embarked S : 33.69565217391305 %\n",
            "Survived people with Embarked C : 55.88235294117647 %\n",
            "Survived people with Embarked Q : 38.961038961038966 %\n"
          ],
          "name": "stdout"
        }
      ]
    },
    {
      "cell_type": "code",
      "metadata": {
        "id": "tXY2u57aCjuW",
        "colab_type": "code",
        "outputId": "03c662f9-6c61-43bc-ba35-909757e534c9",
        "colab": {}
      },
      "source": [
        "print('Survived people with Embarked C and Pclass=1 :',\n",
        "      titanic_train['Survived'][(titanic_train['Embarked']=='C')&(titanic_train['Pclass']==1)]\n",
        "      .value_counts(normalize=True)[1]*100,'%')"
      ],
      "execution_count": 0,
      "outputs": [
        {
          "output_type": "stream",
          "text": [
            "Survived people with Embarked C and Pclass=1 : 70.11494252873564 %\n"
          ],
          "name": "stdout"
        }
      ]
    },
    {
      "cell_type": "markdown",
      "metadata": {
        "id": "Nnu86CIrCjuX",
        "colab_type": "text"
      },
      "source": [
        "# **-----------------------------------------------------------------------------------------------------------**"
      ]
    },
    {
      "cell_type": "markdown",
      "metadata": {
        "id": "UhJ3a5aVCjuY",
        "colab_type": "text"
      },
      "source": [
        "# Cleaning remaining data for model evaluation"
      ]
    },
    {
      "cell_type": "code",
      "metadata": {
        "id": "vwFRJJ42CjuY",
        "colab_type": "code",
        "outputId": "a76dfe48-4270-42f0-f4d9-dde63bca7e1b",
        "colab": {}
      },
      "source": [
        "titanic_train.head(7)"
      ],
      "execution_count": 0,
      "outputs": [
        {
          "output_type": "execute_result",
          "data": {
            "text/html": [
              "<div>\n",
              "<style scoped>\n",
              "    .dataframe tbody tr th:only-of-type {\n",
              "        vertical-align: middle;\n",
              "    }\n",
              "\n",
              "    .dataframe tbody tr th {\n",
              "        vertical-align: top;\n",
              "    }\n",
              "\n",
              "    .dataframe thead th {\n",
              "        text-align: right;\n",
              "    }\n",
              "</style>\n",
              "<table border=\"1\" class=\"dataframe\">\n",
              "  <thead>\n",
              "    <tr style=\"text-align: right;\">\n",
              "      <th></th>\n",
              "      <th>PassengerId</th>\n",
              "      <th>Survived</th>\n",
              "      <th>Pclass</th>\n",
              "      <th>Name</th>\n",
              "      <th>Sex</th>\n",
              "      <th>Age</th>\n",
              "      <th>SibSp</th>\n",
              "      <th>Parch</th>\n",
              "      <th>Ticket</th>\n",
              "      <th>Fare</th>\n",
              "      <th>Cabin</th>\n",
              "      <th>Embarked</th>\n",
              "      <th>Title</th>\n",
              "      <th>cabin_end</th>\n",
              "      <th>Floor</th>\n",
              "    </tr>\n",
              "  </thead>\n",
              "  <tbody>\n",
              "    <tr>\n",
              "      <th>0</th>\n",
              "      <td>1</td>\n",
              "      <td>0</td>\n",
              "      <td>3</td>\n",
              "      <td>Braund, Mr. Owen Harris</td>\n",
              "      <td>male</td>\n",
              "      <td>22.0</td>\n",
              "      <td>1</td>\n",
              "      <td>0</td>\n",
              "      <td>A/5 21171</td>\n",
              "      <td>7.2500</td>\n",
              "      <td>NaN</td>\n",
              "      <td>S</td>\n",
              "      <td>Mr</td>\n",
              "      <td>0</td>\n",
              "      <td>Z</td>\n",
              "    </tr>\n",
              "    <tr>\n",
              "      <th>1</th>\n",
              "      <td>2</td>\n",
              "      <td>1</td>\n",
              "      <td>1</td>\n",
              "      <td>Cumings, Mrs. John Bradley (Florence Briggs Th...</td>\n",
              "      <td>female</td>\n",
              "      <td>38.0</td>\n",
              "      <td>1</td>\n",
              "      <td>0</td>\n",
              "      <td>PC 17599</td>\n",
              "      <td>71.2833</td>\n",
              "      <td>C85</td>\n",
              "      <td>C</td>\n",
              "      <td>Mrs</td>\n",
              "      <td>1</td>\n",
              "      <td>C</td>\n",
              "    </tr>\n",
              "    <tr>\n",
              "      <th>2</th>\n",
              "      <td>3</td>\n",
              "      <td>1</td>\n",
              "      <td>3</td>\n",
              "      <td>Heikkinen, Miss. Laina</td>\n",
              "      <td>female</td>\n",
              "      <td>26.0</td>\n",
              "      <td>0</td>\n",
              "      <td>0</td>\n",
              "      <td>STON/O2. 3101282</td>\n",
              "      <td>7.9250</td>\n",
              "      <td>NaN</td>\n",
              "      <td>S</td>\n",
              "      <td>Miss</td>\n",
              "      <td>0</td>\n",
              "      <td>Z</td>\n",
              "    </tr>\n",
              "    <tr>\n",
              "      <th>3</th>\n",
              "      <td>4</td>\n",
              "      <td>1</td>\n",
              "      <td>1</td>\n",
              "      <td>Futrelle, Mrs. Jacques Heath (Lily May Peel)</td>\n",
              "      <td>female</td>\n",
              "      <td>35.0</td>\n",
              "      <td>1</td>\n",
              "      <td>0</td>\n",
              "      <td>113803</td>\n",
              "      <td>53.1000</td>\n",
              "      <td>C123</td>\n",
              "      <td>S</td>\n",
              "      <td>Mrs</td>\n",
              "      <td>1</td>\n",
              "      <td>C</td>\n",
              "    </tr>\n",
              "    <tr>\n",
              "      <th>4</th>\n",
              "      <td>5</td>\n",
              "      <td>0</td>\n",
              "      <td>3</td>\n",
              "      <td>Allen, Mr. William Henry</td>\n",
              "      <td>male</td>\n",
              "      <td>35.0</td>\n",
              "      <td>0</td>\n",
              "      <td>0</td>\n",
              "      <td>373450</td>\n",
              "      <td>8.0500</td>\n",
              "      <td>NaN</td>\n",
              "      <td>S</td>\n",
              "      <td>Mr</td>\n",
              "      <td>0</td>\n",
              "      <td>Z</td>\n",
              "    </tr>\n",
              "    <tr>\n",
              "      <th>5</th>\n",
              "      <td>6</td>\n",
              "      <td>0</td>\n",
              "      <td>3</td>\n",
              "      <td>Moran, Mr. James</td>\n",
              "      <td>male</td>\n",
              "      <td>NaN</td>\n",
              "      <td>0</td>\n",
              "      <td>0</td>\n",
              "      <td>330877</td>\n",
              "      <td>8.4583</td>\n",
              "      <td>NaN</td>\n",
              "      <td>Q</td>\n",
              "      <td>Mr</td>\n",
              "      <td>0</td>\n",
              "      <td>Z</td>\n",
              "    </tr>\n",
              "    <tr>\n",
              "      <th>6</th>\n",
              "      <td>7</td>\n",
              "      <td>0</td>\n",
              "      <td>1</td>\n",
              "      <td>McCarthy, Mr. Timothy J</td>\n",
              "      <td>male</td>\n",
              "      <td>54.0</td>\n",
              "      <td>0</td>\n",
              "      <td>0</td>\n",
              "      <td>17463</td>\n",
              "      <td>51.8625</td>\n",
              "      <td>E46</td>\n",
              "      <td>S</td>\n",
              "      <td>Mr</td>\n",
              "      <td>1</td>\n",
              "      <td>E</td>\n",
              "    </tr>\n",
              "  </tbody>\n",
              "</table>\n",
              "</div>"
            ],
            "text/plain": [
              "   PassengerId  Survived  Pclass  \\\n",
              "0            1         0       3   \n",
              "1            2         1       1   \n",
              "2            3         1       3   \n",
              "3            4         1       1   \n",
              "4            5         0       3   \n",
              "5            6         0       3   \n",
              "6            7         0       1   \n",
              "\n",
              "                                                Name     Sex   Age  SibSp  \\\n",
              "0                            Braund, Mr. Owen Harris    male  22.0      1   \n",
              "1  Cumings, Mrs. John Bradley (Florence Briggs Th...  female  38.0      1   \n",
              "2                             Heikkinen, Miss. Laina  female  26.0      0   \n",
              "3       Futrelle, Mrs. Jacques Heath (Lily May Peel)  female  35.0      1   \n",
              "4                           Allen, Mr. William Henry    male  35.0      0   \n",
              "5                                   Moran, Mr. James    male   NaN      0   \n",
              "6                            McCarthy, Mr. Timothy J    male  54.0      0   \n",
              "\n",
              "   Parch            Ticket     Fare Cabin Embarked Title  cabin_end Floor  \n",
              "0      0         A/5 21171   7.2500   NaN        S    Mr          0     Z  \n",
              "1      0          PC 17599  71.2833   C85        C   Mrs          1     C  \n",
              "2      0  STON/O2. 3101282   7.9250   NaN        S  Miss          0     Z  \n",
              "3      0            113803  53.1000  C123        S   Mrs          1     C  \n",
              "4      0            373450   8.0500   NaN        S    Mr          0     Z  \n",
              "5      0            330877   8.4583   NaN        Q    Mr          0     Z  \n",
              "6      0             17463  51.8625   E46        S    Mr          1     E  "
            ]
          },
          "metadata": {
            "tags": []
          },
          "execution_count": 334
        }
      ]
    },
    {
      "cell_type": "markdown",
      "metadata": {
        "id": "30ZizJqPCjua",
        "colab_type": "text"
      },
      "source": [
        "* Sex"
      ]
    },
    {
      "cell_type": "code",
      "metadata": {
        "id": "C7jEubjjCjub",
        "colab_type": "code",
        "colab": {}
      },
      "source": [
        "titanic_train['Sex']=np.where(titanic_train['Sex']=='male',0,1) \n",
        "titanic_test['Sex']=np.where(titanic_test['Sex']=='male',0,1)"
      ],
      "execution_count": 0,
      "outputs": []
    },
    {
      "cell_type": "markdown",
      "metadata": {
        "id": "_9k4FIu5Cjuc",
        "colab_type": "text"
      },
      "source": [
        "* Embarked"
      ]
    },
    {
      "cell_type": "code",
      "metadata": {
        "id": "CCPkRYm8Cjuc",
        "colab_type": "code",
        "colab": {}
      },
      "source": [
        "Embarked_map = {\"S\": 1, \"C\": 2, \"Q\": 3}\n",
        "titanic_train['Embarked'] = titanic_train['Embarked'].map(Embarked_map)\n",
        "titanic_test['Embarked'] = titanic_test['Embarked'].map(Embarked_map)"
      ],
      "execution_count": 0,
      "outputs": []
    },
    {
      "cell_type": "markdown",
      "metadata": {
        "id": "Hmb2xUezCjud",
        "colab_type": "text"
      },
      "source": [
        "* Drop extra features"
      ]
    },
    {
      "cell_type": "code",
      "metadata": {
        "id": "5qIZwYRmCjue",
        "colab_type": "code",
        "colab": {}
      },
      "source": [
        "drop_things=['PassengerId','Name','Ticket','Cabin']\n",
        "titanic_train.drop(drop_things,axis=1,inplace=True)\n",
        "titanic_test.drop(drop_things,axis=1,inplace=True)"
      ],
      "execution_count": 0,
      "outputs": []
    },
    {
      "cell_type": "code",
      "metadata": {
        "id": "WlQDSOkwCjuf",
        "colab_type": "code",
        "outputId": "42df665e-a240-4ec6-ceb2-5af45f822761",
        "colab": {}
      },
      "source": [
        "titanic_test.isnull().sum()"
      ],
      "execution_count": 0,
      "outputs": [
        {
          "output_type": "execute_result",
          "data": {
            "text/plain": [
              "Pclass        0\n",
              "Sex           0\n",
              "Age          86\n",
              "SibSp         0\n",
              "Parch         0\n",
              "Fare          0\n",
              "Embarked      0\n",
              "Title         0\n",
              "cabin_end     0\n",
              "Floor         0\n",
              "dtype: int64"
            ]
          },
          "metadata": {
            "tags": []
          },
          "execution_count": 338
        }
      ]
    },
    {
      "cell_type": "markdown",
      "metadata": {
        "id": "gNrqmUEtCjug",
        "colab_type": "text"
      },
      "source": [
        "* Categorial features into numeric feature : Floor"
      ]
    },
    {
      "cell_type": "code",
      "metadata": {
        "id": "c2lO3u_vCjuh",
        "colab_type": "code",
        "colab": {}
      },
      "source": [
        "from sklearn.preprocessing import LabelEncoder\n",
        "labelEnc=LabelEncoder()\n",
        "titanic_train['Floor']=labelEnc.fit_transform(titanic_train['Floor'])\n",
        "titanic_test['Floor']=labelEnc.fit_transform(titanic_test['Floor'])"
      ],
      "execution_count": 0,
      "outputs": []
    },
    {
      "cell_type": "markdown",
      "metadata": {
        "id": "e24if_ckCjui",
        "colab_type": "text"
      },
      "source": [
        "* Title"
      ]
    },
    {
      "cell_type": "code",
      "metadata": {
        "id": "1y5tzSX_Cjui",
        "colab_type": "code",
        "colab": {}
      },
      "source": [
        "titanic_train['Title'] = titanic_train['Title'].replace(['Col','Don', 'Lady','Rev',\n",
        "                                                         'Jonkheer', 'Capt', 'Dr','Countess','Sir', 'Major',  'Dona'], 'Few')\n",
        "titanic_train['Title'] = titanic_train['Title'].replace(['Mlle','Ms'], 'Miss')\n",
        "titanic_train['Title'] = titanic_train['Title'].replace('Mme', 'Mrs')\n",
        "titanic_test['Title']  = titanic_test['Title'].replace(['Col','Don', 'Lady','Rev',\n",
        "                                                         'Jonkheer', 'Capt', 'Dr','Countess','Sir', 'Major',  'Dona'], 'Few')\n",
        "titanic_test['Title']  = titanic_test['Title'].replace(['Mlle','Ms'], 'Miss')\n",
        "titanic_test['Title']  = titanic_test['Title'].replace('Mme', 'Mrs')"
      ],
      "execution_count": 0,
      "outputs": []
    },
    {
      "cell_type": "code",
      "metadata": {
        "id": "srMLGFFJCjul",
        "colab_type": "code",
        "colab": {}
      },
      "source": [
        "titanic_train['Title'] = labelEnc.fit_transform(titanic_train['Title'])\n",
        "titanic_test['Title']  = labelEnc.fit_transform(titanic_test['Title'])"
      ],
      "execution_count": 0,
      "outputs": []
    },
    {
      "cell_type": "code",
      "metadata": {
        "id": "iwqSkOioCjun",
        "colab_type": "code",
        "outputId": "73453bf8-3ef9-479e-8dac-952efe3d2f3e",
        "colab": {}
      },
      "source": [
        "titanic_train['Title'].value_counts()"
      ],
      "execution_count": 0,
      "outputs": [
        {
          "output_type": "execute_result",
          "data": {
            "text/plain": [
              "3    517\n",
              "2    185\n",
              "4    126\n",
              "1     40\n",
              "0     23\n",
              "Name: Title, dtype: int64"
            ]
          },
          "metadata": {
            "tags": []
          },
          "execution_count": 342
        }
      ]
    },
    {
      "cell_type": "code",
      "metadata": {
        "id": "B85rD68pCjuo",
        "colab_type": "code",
        "outputId": "eb3fa353-cff0-4423-c5c9-87acbfa04c9f",
        "colab": {}
      },
      "source": [
        "titanic_train.head(10)"
      ],
      "execution_count": 0,
      "outputs": [
        {
          "output_type": "execute_result",
          "data": {
            "text/html": [
              "<div>\n",
              "<style scoped>\n",
              "    .dataframe tbody tr th:only-of-type {\n",
              "        vertical-align: middle;\n",
              "    }\n",
              "\n",
              "    .dataframe tbody tr th {\n",
              "        vertical-align: top;\n",
              "    }\n",
              "\n",
              "    .dataframe thead th {\n",
              "        text-align: right;\n",
              "    }\n",
              "</style>\n",
              "<table border=\"1\" class=\"dataframe\">\n",
              "  <thead>\n",
              "    <tr style=\"text-align: right;\">\n",
              "      <th></th>\n",
              "      <th>Survived</th>\n",
              "      <th>Pclass</th>\n",
              "      <th>Sex</th>\n",
              "      <th>Age</th>\n",
              "      <th>SibSp</th>\n",
              "      <th>Parch</th>\n",
              "      <th>Fare</th>\n",
              "      <th>Embarked</th>\n",
              "      <th>Title</th>\n",
              "      <th>cabin_end</th>\n",
              "      <th>Floor</th>\n",
              "    </tr>\n",
              "  </thead>\n",
              "  <tbody>\n",
              "    <tr>\n",
              "      <th>0</th>\n",
              "      <td>0</td>\n",
              "      <td>3</td>\n",
              "      <td>0</td>\n",
              "      <td>22.0</td>\n",
              "      <td>1</td>\n",
              "      <td>0</td>\n",
              "      <td>7.2500</td>\n",
              "      <td>1</td>\n",
              "      <td>3</td>\n",
              "      <td>0</td>\n",
              "      <td>8</td>\n",
              "    </tr>\n",
              "    <tr>\n",
              "      <th>1</th>\n",
              "      <td>1</td>\n",
              "      <td>1</td>\n",
              "      <td>1</td>\n",
              "      <td>38.0</td>\n",
              "      <td>1</td>\n",
              "      <td>0</td>\n",
              "      <td>71.2833</td>\n",
              "      <td>2</td>\n",
              "      <td>4</td>\n",
              "      <td>1</td>\n",
              "      <td>2</td>\n",
              "    </tr>\n",
              "    <tr>\n",
              "      <th>2</th>\n",
              "      <td>1</td>\n",
              "      <td>3</td>\n",
              "      <td>1</td>\n",
              "      <td>26.0</td>\n",
              "      <td>0</td>\n",
              "      <td>0</td>\n",
              "      <td>7.9250</td>\n",
              "      <td>1</td>\n",
              "      <td>2</td>\n",
              "      <td>0</td>\n",
              "      <td>8</td>\n",
              "    </tr>\n",
              "    <tr>\n",
              "      <th>3</th>\n",
              "      <td>1</td>\n",
              "      <td>1</td>\n",
              "      <td>1</td>\n",
              "      <td>35.0</td>\n",
              "      <td>1</td>\n",
              "      <td>0</td>\n",
              "      <td>53.1000</td>\n",
              "      <td>1</td>\n",
              "      <td>4</td>\n",
              "      <td>1</td>\n",
              "      <td>2</td>\n",
              "    </tr>\n",
              "    <tr>\n",
              "      <th>4</th>\n",
              "      <td>0</td>\n",
              "      <td>3</td>\n",
              "      <td>0</td>\n",
              "      <td>35.0</td>\n",
              "      <td>0</td>\n",
              "      <td>0</td>\n",
              "      <td>8.0500</td>\n",
              "      <td>1</td>\n",
              "      <td>3</td>\n",
              "      <td>0</td>\n",
              "      <td>8</td>\n",
              "    </tr>\n",
              "    <tr>\n",
              "      <th>5</th>\n",
              "      <td>0</td>\n",
              "      <td>3</td>\n",
              "      <td>0</td>\n",
              "      <td>NaN</td>\n",
              "      <td>0</td>\n",
              "      <td>0</td>\n",
              "      <td>8.4583</td>\n",
              "      <td>3</td>\n",
              "      <td>3</td>\n",
              "      <td>0</td>\n",
              "      <td>8</td>\n",
              "    </tr>\n",
              "    <tr>\n",
              "      <th>6</th>\n",
              "      <td>0</td>\n",
              "      <td>1</td>\n",
              "      <td>0</td>\n",
              "      <td>54.0</td>\n",
              "      <td>0</td>\n",
              "      <td>0</td>\n",
              "      <td>51.8625</td>\n",
              "      <td>1</td>\n",
              "      <td>3</td>\n",
              "      <td>1</td>\n",
              "      <td>4</td>\n",
              "    </tr>\n",
              "    <tr>\n",
              "      <th>7</th>\n",
              "      <td>0</td>\n",
              "      <td>3</td>\n",
              "      <td>0</td>\n",
              "      <td>2.0</td>\n",
              "      <td>3</td>\n",
              "      <td>1</td>\n",
              "      <td>21.0750</td>\n",
              "      <td>1</td>\n",
              "      <td>1</td>\n",
              "      <td>0</td>\n",
              "      <td>8</td>\n",
              "    </tr>\n",
              "    <tr>\n",
              "      <th>8</th>\n",
              "      <td>1</td>\n",
              "      <td>3</td>\n",
              "      <td>1</td>\n",
              "      <td>27.0</td>\n",
              "      <td>0</td>\n",
              "      <td>2</td>\n",
              "      <td>11.1333</td>\n",
              "      <td>1</td>\n",
              "      <td>4</td>\n",
              "      <td>0</td>\n",
              "      <td>8</td>\n",
              "    </tr>\n",
              "    <tr>\n",
              "      <th>9</th>\n",
              "      <td>1</td>\n",
              "      <td>2</td>\n",
              "      <td>1</td>\n",
              "      <td>14.0</td>\n",
              "      <td>1</td>\n",
              "      <td>0</td>\n",
              "      <td>30.0708</td>\n",
              "      <td>2</td>\n",
              "      <td>4</td>\n",
              "      <td>0</td>\n",
              "      <td>8</td>\n",
              "    </tr>\n",
              "  </tbody>\n",
              "</table>\n",
              "</div>"
            ],
            "text/plain": [
              "   Survived  Pclass  Sex   Age  SibSp  Parch     Fare  Embarked  Title  \\\n",
              "0         0       3    0  22.0      1      0   7.2500         1      3   \n",
              "1         1       1    1  38.0      1      0  71.2833         2      4   \n",
              "2         1       3    1  26.0      0      0   7.9250         1      2   \n",
              "3         1       1    1  35.0      1      0  53.1000         1      4   \n",
              "4         0       3    0  35.0      0      0   8.0500         1      3   \n",
              "5         0       3    0   NaN      0      0   8.4583         3      3   \n",
              "6         0       1    0  54.0      0      0  51.8625         1      3   \n",
              "7         0       3    0   2.0      3      1  21.0750         1      1   \n",
              "8         1       3    1  27.0      0      2  11.1333         1      4   \n",
              "9         1       2    1  14.0      1      0  30.0708         2      4   \n",
              "\n",
              "   cabin_end  Floor  \n",
              "0          0      8  \n",
              "1          1      2  \n",
              "2          0      8  \n",
              "3          1      2  \n",
              "4          0      8  \n",
              "5          0      8  \n",
              "6          1      4  \n",
              "7          0      8  \n",
              "8          0      8  \n",
              "9          0      8  "
            ]
          },
          "metadata": {
            "tags": []
          },
          "execution_count": 343
        }
      ]
    },
    {
      "cell_type": "code",
      "metadata": {
        "id": "8GR-raN-Cjuq",
        "colab_type": "code",
        "outputId": "e219a9f7-7751-454e-a20a-e28ded2e9a76",
        "colab": {}
      },
      "source": [
        "titanic_test.head()"
      ],
      "execution_count": 0,
      "outputs": [
        {
          "output_type": "execute_result",
          "data": {
            "text/html": [
              "<div>\n",
              "<style scoped>\n",
              "    .dataframe tbody tr th:only-of-type {\n",
              "        vertical-align: middle;\n",
              "    }\n",
              "\n",
              "    .dataframe tbody tr th {\n",
              "        vertical-align: top;\n",
              "    }\n",
              "\n",
              "    .dataframe thead th {\n",
              "        text-align: right;\n",
              "    }\n",
              "</style>\n",
              "<table border=\"1\" class=\"dataframe\">\n",
              "  <thead>\n",
              "    <tr style=\"text-align: right;\">\n",
              "      <th></th>\n",
              "      <th>Pclass</th>\n",
              "      <th>Sex</th>\n",
              "      <th>Age</th>\n",
              "      <th>SibSp</th>\n",
              "      <th>Parch</th>\n",
              "      <th>Fare</th>\n",
              "      <th>Embarked</th>\n",
              "      <th>Title</th>\n",
              "      <th>cabin_end</th>\n",
              "      <th>Floor</th>\n",
              "    </tr>\n",
              "  </thead>\n",
              "  <tbody>\n",
              "    <tr>\n",
              "      <th>0</th>\n",
              "      <td>3</td>\n",
              "      <td>0</td>\n",
              "      <td>34.5</td>\n",
              "      <td>0</td>\n",
              "      <td>0</td>\n",
              "      <td>7.8292</td>\n",
              "      <td>3</td>\n",
              "      <td>3</td>\n",
              "      <td>0</td>\n",
              "      <td>8</td>\n",
              "    </tr>\n",
              "    <tr>\n",
              "      <th>1</th>\n",
              "      <td>3</td>\n",
              "      <td>1</td>\n",
              "      <td>47.0</td>\n",
              "      <td>1</td>\n",
              "      <td>0</td>\n",
              "      <td>7.0000</td>\n",
              "      <td>1</td>\n",
              "      <td>4</td>\n",
              "      <td>0</td>\n",
              "      <td>2</td>\n",
              "    </tr>\n",
              "    <tr>\n",
              "      <th>2</th>\n",
              "      <td>2</td>\n",
              "      <td>0</td>\n",
              "      <td>62.0</td>\n",
              "      <td>0</td>\n",
              "      <td>0</td>\n",
              "      <td>9.6875</td>\n",
              "      <td>3</td>\n",
              "      <td>3</td>\n",
              "      <td>0</td>\n",
              "      <td>8</td>\n",
              "    </tr>\n",
              "    <tr>\n",
              "      <th>3</th>\n",
              "      <td>3</td>\n",
              "      <td>0</td>\n",
              "      <td>27.0</td>\n",
              "      <td>0</td>\n",
              "      <td>0</td>\n",
              "      <td>8.6625</td>\n",
              "      <td>1</td>\n",
              "      <td>3</td>\n",
              "      <td>0</td>\n",
              "      <td>2</td>\n",
              "    </tr>\n",
              "    <tr>\n",
              "      <th>4</th>\n",
              "      <td>3</td>\n",
              "      <td>1</td>\n",
              "      <td>22.0</td>\n",
              "      <td>1</td>\n",
              "      <td>1</td>\n",
              "      <td>12.2875</td>\n",
              "      <td>1</td>\n",
              "      <td>4</td>\n",
              "      <td>0</td>\n",
              "      <td>8</td>\n",
              "    </tr>\n",
              "  </tbody>\n",
              "</table>\n",
              "</div>"
            ],
            "text/plain": [
              "   Pclass  Sex   Age  SibSp  Parch     Fare  Embarked  Title  cabin_end  Floor\n",
              "0       3    0  34.5      0      0   7.8292         3      3          0      8\n",
              "1       3    1  47.0      1      0   7.0000         1      4          0      2\n",
              "2       2    0  62.0      0      0   9.6875         3      3          0      8\n",
              "3       3    0  27.0      0      0   8.6625         1      3          0      2\n",
              "4       3    1  22.0      1      1  12.2875         1      4          0      8"
            ]
          },
          "metadata": {
            "tags": []
          },
          "execution_count": 344
        }
      ]
    },
    {
      "cell_type": "markdown",
      "metadata": {
        "id": "NcAiRVClCjur",
        "colab_type": "text"
      },
      "source": [
        "* Only Age feature is remaining left with discontinous values\n",
        "* Filling missing Age with average value is not a good practice always\n",
        "* for more info about RFR : https://scikit-learn.org/stable/modules/generated/sklearn.ensemble.RandomForestRegressor.html"
      ]
    },
    {
      "cell_type": "code",
      "metadata": {
        "id": "H8IJVhm-Cjur",
        "colab_type": "code",
        "colab": {}
      },
      "source": [
        "from sklearn.ensemble import RandomForestRegressor\n",
        "for dataset in [titanic_train,titanic_test]:\n",
        "    train_missing_age_df = dataset.loc[(dataset['Age'].notnull())]\n",
        "    test_missing_age_df  = dataset.loc[(dataset['Age'].isnull())]\n",
        "    cols = ['Age']  + [col for col in dataset.columns if col != 'Age'] #Transferring Age from index 3 to index 0\n",
        "    train_missing_age_df = train_missing_age_df[cols]\n",
        "    test_missing_age_df  = test_missing_age_df[cols]\n",
        "    X = train_missing_age_df.values[:,1::]\n",
        "    Y = train_missing_age_df.values[:,0]\n",
        "    rtr = RandomForestRegressor(n_estimators=2500,n_jobs=-1)\n",
        "    rtr.fit(X,Y)\n",
        "    age_predicted = rtr.predict(test_missing_age_df.values[:,1::])\n",
        "    dataset.loc[(dataset['Age'].isnull()),'Age'] = age_predicted"
      ],
      "execution_count": 0,
      "outputs": []
    },
    {
      "cell_type": "code",
      "metadata": {
        "id": "LgsfqC0GCjus",
        "colab_type": "code",
        "outputId": "a87f8126-852e-4e8f-b5a1-426a500b0782",
        "colab": {}
      },
      "source": [
        "titanic_train.head(6)"
      ],
      "execution_count": 0,
      "outputs": [
        {
          "output_type": "execute_result",
          "data": {
            "text/html": [
              "<div>\n",
              "<style scoped>\n",
              "    .dataframe tbody tr th:only-of-type {\n",
              "        vertical-align: middle;\n",
              "    }\n",
              "\n",
              "    .dataframe tbody tr th {\n",
              "        vertical-align: top;\n",
              "    }\n",
              "\n",
              "    .dataframe thead th {\n",
              "        text-align: right;\n",
              "    }\n",
              "</style>\n",
              "<table border=\"1\" class=\"dataframe\">\n",
              "  <thead>\n",
              "    <tr style=\"text-align: right;\">\n",
              "      <th></th>\n",
              "      <th>Survived</th>\n",
              "      <th>Pclass</th>\n",
              "      <th>Sex</th>\n",
              "      <th>Age</th>\n",
              "      <th>SibSp</th>\n",
              "      <th>Parch</th>\n",
              "      <th>Fare</th>\n",
              "      <th>Embarked</th>\n",
              "      <th>Title</th>\n",
              "      <th>cabin_end</th>\n",
              "      <th>Floor</th>\n",
              "    </tr>\n",
              "  </thead>\n",
              "  <tbody>\n",
              "    <tr>\n",
              "      <th>0</th>\n",
              "      <td>0</td>\n",
              "      <td>3</td>\n",
              "      <td>0</td>\n",
              "      <td>22.000000</td>\n",
              "      <td>1</td>\n",
              "      <td>0</td>\n",
              "      <td>7.2500</td>\n",
              "      <td>1</td>\n",
              "      <td>3</td>\n",
              "      <td>0</td>\n",
              "      <td>8</td>\n",
              "    </tr>\n",
              "    <tr>\n",
              "      <th>1</th>\n",
              "      <td>1</td>\n",
              "      <td>1</td>\n",
              "      <td>1</td>\n",
              "      <td>38.000000</td>\n",
              "      <td>1</td>\n",
              "      <td>0</td>\n",
              "      <td>71.2833</td>\n",
              "      <td>2</td>\n",
              "      <td>4</td>\n",
              "      <td>1</td>\n",
              "      <td>2</td>\n",
              "    </tr>\n",
              "    <tr>\n",
              "      <th>2</th>\n",
              "      <td>1</td>\n",
              "      <td>3</td>\n",
              "      <td>1</td>\n",
              "      <td>26.000000</td>\n",
              "      <td>0</td>\n",
              "      <td>0</td>\n",
              "      <td>7.9250</td>\n",
              "      <td>1</td>\n",
              "      <td>2</td>\n",
              "      <td>0</td>\n",
              "      <td>8</td>\n",
              "    </tr>\n",
              "    <tr>\n",
              "      <th>3</th>\n",
              "      <td>1</td>\n",
              "      <td>1</td>\n",
              "      <td>1</td>\n",
              "      <td>35.000000</td>\n",
              "      <td>1</td>\n",
              "      <td>0</td>\n",
              "      <td>53.1000</td>\n",
              "      <td>1</td>\n",
              "      <td>4</td>\n",
              "      <td>1</td>\n",
              "      <td>2</td>\n",
              "    </tr>\n",
              "    <tr>\n",
              "      <th>4</th>\n",
              "      <td>0</td>\n",
              "      <td>3</td>\n",
              "      <td>0</td>\n",
              "      <td>35.000000</td>\n",
              "      <td>0</td>\n",
              "      <td>0</td>\n",
              "      <td>8.0500</td>\n",
              "      <td>1</td>\n",
              "      <td>3</td>\n",
              "      <td>0</td>\n",
              "      <td>8</td>\n",
              "    </tr>\n",
              "    <tr>\n",
              "      <th>5</th>\n",
              "      <td>0</td>\n",
              "      <td>3</td>\n",
              "      <td>0</td>\n",
              "      <td>41.594872</td>\n",
              "      <td>0</td>\n",
              "      <td>0</td>\n",
              "      <td>8.4583</td>\n",
              "      <td>3</td>\n",
              "      <td>3</td>\n",
              "      <td>0</td>\n",
              "      <td>8</td>\n",
              "    </tr>\n",
              "  </tbody>\n",
              "</table>\n",
              "</div>"
            ],
            "text/plain": [
              "   Survived  Pclass  Sex        Age  SibSp  Parch     Fare  Embarked  Title  \\\n",
              "0         0       3    0  22.000000      1      0   7.2500         1      3   \n",
              "1         1       1    1  38.000000      1      0  71.2833         2      4   \n",
              "2         1       3    1  26.000000      0      0   7.9250         1      2   \n",
              "3         1       1    1  35.000000      1      0  53.1000         1      4   \n",
              "4         0       3    0  35.000000      0      0   8.0500         1      3   \n",
              "5         0       3    0  41.594872      0      0   8.4583         3      3   \n",
              "\n",
              "   cabin_end  Floor  \n",
              "0          0      8  \n",
              "1          1      2  \n",
              "2          0      8  \n",
              "3          1      2  \n",
              "4          0      8  \n",
              "5          0      8  "
            ]
          },
          "metadata": {
            "tags": []
          },
          "execution_count": 346
        }
      ]
    },
    {
      "cell_type": "markdown",
      "metadata": {
        "id": "4vxvuTyDCjut",
        "colab_type": "text"
      },
      "source": [
        "# **-----------------------------------------------------------------------------------------------------------**"
      ]
    },
    {
      "cell_type": "markdown",
      "metadata": {
        "id": "ki32VxTjCjut",
        "colab_type": "text"
      },
      "source": [
        "## Survival Prediction using different models"
      ]
    },
    {
      "cell_type": "code",
      "metadata": {
        "id": "ctvl8REPCjuu",
        "colab_type": "code",
        "colab": {}
      },
      "source": [
        "from sklearn.model_selection import train_test_split\n",
        "features = titanic_train.drop('Survived',axis=1)              \n",
        "labels = titanic_train['Survived']\n",
        "x_train,x_test,y_train,y_test = train_test_split(features,labels,test_size = 0.2,random_state = 10)"
      ],
      "execution_count": 0,
      "outputs": []
    },
    {
      "cell_type": "markdown",
      "metadata": {
        "id": "GzkGtJgLCjuw",
        "colab_type": "text"
      },
      "source": [
        "### 1. LinearRegression"
      ]
    },
    {
      "cell_type": "code",
      "metadata": {
        "id": "7jb4kP2GCjux",
        "colab_type": "code",
        "colab": {}
      },
      "source": [
        "from sklearn.linear_model import LinearRegression\n",
        "lm=LinearRegression()\n",
        "lm.fit(x_train,y_train)\n",
        "Y_lr = lm.predict(x_test)"
      ],
      "execution_count": 0,
      "outputs": []
    },
    {
      "cell_type": "code",
      "metadata": {
        "id": "iVbHAq4uCju1",
        "colab_type": "code",
        "outputId": "31418537-4a70-4fbf-8dde-d821446bcf24",
        "colab": {}
      },
      "source": [
        "lm.intercept_"
      ],
      "execution_count": 0,
      "outputs": [
        {
          "output_type": "execute_result",
          "data": {
            "text/plain": [
              "0.4951375806814976"
            ]
          },
          "metadata": {
            "tags": []
          },
          "execution_count": 349
        }
      ]
    },
    {
      "cell_type": "code",
      "metadata": {
        "id": "nKKU9g9UCju2",
        "colab_type": "code",
        "outputId": "eb42c211-37e1-42a7-e475-6dfe1baaffe8",
        "colab": {}
      },
      "source": [
        "lm.coef_"
      ],
      "execution_count": 0,
      "outputs": [
        {
          "output_type": "execute_result",
          "data": {
            "text/plain": [
              "array([-1.64536183e-01,  4.82482940e-01, -6.43459738e-03, -5.82090061e-02,\n",
              "       -2.12767312e-02,  2.10501698e-04,  5.96999898e-02, -4.16893464e-03,\n",
              "        2.44118972e-01,  3.00201390e-02])"
            ]
          },
          "metadata": {
            "tags": []
          },
          "execution_count": 350
        }
      ]
    },
    {
      "cell_type": "code",
      "metadata": {
        "id": "6DEQ0DsCCju3",
        "colab_type": "code",
        "colab": {}
      },
      "source": [
        "Yhat_lr = np.where(Y_lr>0.5,1,0)"
      ],
      "execution_count": 0,
      "outputs": []
    },
    {
      "cell_type": "code",
      "metadata": {
        "id": "GLKEuakvCju3",
        "colab_type": "code",
        "outputId": "05da6dca-43d5-42f5-e2ec-efe42eb11e6d",
        "colab": {}
      },
      "source": [
        "sns.distplot(y_test,hist=False,color='r',label='Actual Survival')\n",
        "plt.title('Actual v/s Predicted Survival')\n",
        "sns.distplot(Yhat_lr,hist=False,color='b',label='Predicted Survival')"
      ],
      "execution_count": 0,
      "outputs": [
        {
          "output_type": "execute_result",
          "data": {
            "text/plain": [
              "<matplotlib.axes._subplots.AxesSubplot at 0x13f23cb54e0>"
            ]
          },
          "metadata": {
            "tags": []
          },
          "execution_count": 352
        },
        {
          "output_type": "display_data",
          "data": {
            "image/png": "[encoded data removed]",
            "text/plain": [
              "<Figure size 432x288 with 1 Axes>"
            ]
          },
          "metadata": {
            "tags": [],
            "needs_background": "light"
          }
        }
      ]
    },
    {
      "cell_type": "code",
      "metadata": {
        "id": "UCsolss0Cju5",
        "colab_type": "code",
        "outputId": "87b1c669-ddaa-44c7-85e1-9099746c9b93",
        "colab": {}
      },
      "source": [
        "accuracy = sum(y_test==Yhat_lr)*100/len(y_test)\n",
        "accuracy"
      ],
      "execution_count": 0,
      "outputs": [
        {
          "output_type": "execute_result",
          "data": {
            "text/plain": [
              "83.24022346368714"
            ]
          },
          "metadata": {
            "tags": []
          },
          "execution_count": 353
        }
      ]
    },
    {
      "cell_type": "code",
      "metadata": {
        "id": "2TTXTVakCju7",
        "colab_type": "code",
        "outputId": "39a82cf4-131b-4308-ecaa-bc95032b6ff3",
        "colab": {}
      },
      "source": [
        "from sklearn.metrics import accuracy_score,precision_score,recall_score\n",
        "accuracy_lr  = round(accuracy_score(y_test,Yhat_lr),3)\n",
        "precision_lr = round(precision_score(y_test,Yhat_lr),3)\n",
        "recall_lr    = round(recall_score(y_test,Yhat_lr),3)\n",
        "print(\"Accuracy  : {}% \\nPrecision : {}% \\nRecall    : {}% \".format(accuracy_lr*100,precision_lr*100,recall_lr*100))"
      ],
      "execution_count": 0,
      "outputs": [
        {
          "output_type": "stream",
          "text": [
            "Accuracy  : 83.2% \n",
            "Precision : 76.7% \n",
            "Recall    : 74.2% \n"
          ],
          "name": "stdout"
        }
      ]
    },
    {
      "cell_type": "markdown",
      "metadata": {
        "id": "RvEcU7bWCju8",
        "colab_type": "text"
      },
      "source": [
        "## 2. LogisticRegression"
      ]
    },
    {
      "cell_type": "code",
      "metadata": {
        "id": "IKznmx9_Cju8",
        "colab_type": "code",
        "colab": {}
      },
      "source": [
        "from sklearn.linear_model import LogisticRegression\n",
        "lgr = LogisticRegression()\n",
        "lgr.fit(x_train,y_train)\n",
        "Yhat_lgr = lgr.predict(x_test)"
      ],
      "execution_count": 0,
      "outputs": []
    },
    {
      "cell_type": "code",
      "metadata": {
        "id": "rpHd-7pzCju-",
        "colab_type": "code",
        "outputId": "b6795d1a-e22e-4380-e6af-44bfd534de22",
        "colab": {}
      },
      "source": [
        "sns.distplot(y_test,hist=False,color='r',label='Actual Survival')\n",
        "plt.title('Actual v/s Predicted Survival')\n",
        "sns.distplot(Yhat_lgr,hist=False,color='b',label='Predicted Survival')"
      ],
      "execution_count": 0,
      "outputs": [
        {
          "output_type": "execute_result",
          "data": {
            "text/plain": [
              "<matplotlib.axes._subplots.AxesSubplot at 0x13f23bdcba8>"
            ]
          },
          "metadata": {
            "tags": []
          },
          "execution_count": 356
        },
        {
          "output_type": "display_data",
          "data": {
            "image/png": "[encoded data removed]",
            "text/plain": [
              "<Figure size 432x288 with 1 Axes>"
            ]
          },
          "metadata": {
            "tags": [],
            "needs_background": "light"
          }
        }
      ]
    },
    {
      "cell_type": "code",
      "metadata": {
        "id": "6cIkxUqvCjvA",
        "colab_type": "code",
        "outputId": "9f5528b3-0c97-446b-962f-55f7f239704a",
        "colab": {}
      },
      "source": [
        "accuracy_lgr = round(accuracy_score(y_test,Yhat_lgr),3)\n",
        "precision_lgr = round(precision_score(y_test,Yhat_lgr),3)\n",
        "recall_lgr = round(recall_score(y_test,Yhat_lgr),3)\n",
        "print(\"Accuracy  : {}% \\nPrecision : {}% \\nRecall    : {}% \".format(accuracy_lgr*100,precision_lgr*100,recall_lgr*100))"
      ],
      "execution_count": 0,
      "outputs": [
        {
          "output_type": "stream",
          "text": [
            "Accuracy  : 83.2% \n",
            "Precision : 76.7% \n",
            "Recall    : 74.2% \n"
          ],
          "name": "stdout"
        }
      ]
    },
    {
      "cell_type": "markdown",
      "metadata": {
        "id": "NO6BxZ-jCjvB",
        "colab_type": "text"
      },
      "source": [
        "## 3. GaussianNB"
      ]
    },
    {
      "cell_type": "code",
      "metadata": {
        "id": "U4RK8eiPCjvB",
        "colab_type": "code",
        "colab": {}
      },
      "source": [
        "from sklearn.naive_bayes import GaussianNB\n",
        "GNB = GaussianNB()\n",
        "GNB.fit(x_train,y_train)\n",
        "Yhat_GNB = GNB.predict(x_test)"
      ],
      "execution_count": 0,
      "outputs": []
    },
    {
      "cell_type": "code",
      "metadata": {
        "id": "v7Li_b6gCjvD",
        "colab_type": "code",
        "outputId": "fe96985f-da32-4ce7-b3f2-af52acddd650",
        "colab": {}
      },
      "source": [
        "sns.distplot(y_test,hist=False,color='r',label='Actual Survival')\n",
        "plt.title('Actual v/s Predicted Survival')\n",
        "sns.distplot(Yhat_GNB,hist=False,color='b',label='Predicted Survival')"
      ],
      "execution_count": 0,
      "outputs": [
        {
          "output_type": "execute_result",
          "data": {
            "text/plain": [
              "<matplotlib.axes._subplots.AxesSubplot at 0x13f23194c18>"
            ]
          },
          "metadata": {
            "tags": []
          },
          "execution_count": 359
        },
        {
          "output_type": "display_data",
          "data": {
            "image/png": "[encoded data removed]",
            "text/plain": [
              "<Figure size 432x288 with 1 Axes>"
            ]
          },
          "metadata": {
            "tags": [],
            "needs_background": "light"
          }
        }
      ]
    },
    {
      "cell_type": "code",
      "metadata": {
        "id": "G8vX4SlNCjvE",
        "colab_type": "code",
        "outputId": "6e29a612-ce89-4b2b-975b-b61e1a765f76",
        "colab": {}
      },
      "source": [
        "accuracy_GNB  = round(accuracy_score(y_test,Yhat_GNB),3)\n",
        "precision_GNB = round(precision_score(y_test,Yhat_GNB),2)\n",
        "recall_GNB    = round(recall_score(y_test,Yhat_GNB),3)\n",
        "print(\"Accuracy  : {}% \\nPrecision : {}% \\nRecall    : {}% \".format(accuracy_GNB*100,precision_GNB*100,recall_GNB*100))"
      ],
      "execution_count": 0,
      "outputs": [
        {
          "output_type": "stream",
          "text": [
            "Accuracy  : 81.0% \n",
            "Precision : 72.0% \n",
            "Recall    : 74.2% \n"
          ],
          "name": "stdout"
        }
      ]
    },
    {
      "cell_type": "markdown",
      "metadata": {
        "id": "c4YUMtJICjvF",
        "colab_type": "text"
      },
      "source": [
        "## 4. SupportVectorMachine-SVC"
      ]
    },
    {
      "cell_type": "code",
      "metadata": {
        "id": "mr9X3vXyCjvF",
        "colab_type": "code",
        "colab": {}
      },
      "source": [
        "from sklearn.svm import SVC\n",
        "SVC = SVC()\n",
        "SVC.fit(x_train,y_train)\n",
        "Yhat_SVC = SVC.predict(x_test)"
      ],
      "execution_count": 0,
      "outputs": []
    },
    {
      "cell_type": "code",
      "metadata": {
        "id": "FZegqItQCjvG",
        "colab_type": "code",
        "outputId": "714763fc-7b42-49bf-d9cd-1a7cf7e365ab",
        "colab": {}
      },
      "source": [
        "sns.distplot(y_test,hist=False,color='r',label='Actual Survival')\n",
        "plt.title('Actual v/s Predicted Survival')\n",
        "sns.distplot(Yhat_SVC,hist=False,color='b',label='Predicted Survival')"
      ],
      "execution_count": 0,
      "outputs": [
        {
          "output_type": "execute_result",
          "data": {
            "text/plain": [
              "<matplotlib.axes._subplots.AxesSubplot at 0x13f23194898>"
            ]
          },
          "metadata": {
            "tags": []
          },
          "execution_count": 362
        },
        {
          "output_type": "display_data",
          "data": {
            "image/png": "[encoded data removed]",
            "text/plain": [
              "<Figure size 432x288 with 1 Axes>"
            ]
          },
          "metadata": {
            "tags": [],
            "needs_background": "light"
          }
        }
      ]
    },
    {
      "cell_type": "code",
      "metadata": {
        "id": "n6keG_RgCjvG",
        "colab_type": "code",
        "outputId": "e3db27f4-ae50-4066-a66d-6d3f24f3b6c4",
        "colab": {}
      },
      "source": [
        "accuracy_SVC = round(accuracy_score(y_test,Yhat_SVC),3)\n",
        "precision_SVC = round(precision_score(y_test,Yhat_SVC),3)\n",
        "recall_SVC = round(recall_score(y_test,Yhat_SVC),3)\n",
        "print(\"Accuracy  : {}% \\nPrecision : {}% \\nRecall    : {}% \".format(accuracy_SVC*100,precision_SVC*100,recall_SVC*100))"
      ],
      "execution_count": 0,
      "outputs": [
        {
          "output_type": "stream",
          "text": [
            "Accuracy  : 73.7% \n",
            "Precision : 62.3% \n",
            "Recall    : 61.3% \n"
          ],
          "name": "stdout"
        }
      ]
    },
    {
      "cell_type": "markdown",
      "metadata": {
        "id": "HVCmWhywCjvI",
        "colab_type": "text"
      },
      "source": [
        "## 5. SupportVectorMachine-LSVC"
      ]
    },
    {
      "cell_type": "code",
      "metadata": {
        "id": "IpxXzxaPCjvI",
        "colab_type": "code",
        "outputId": "4244063b-ba1c-48f1-805c-1c4f307b1cb3",
        "colab": {}
      },
      "source": [
        "from sklearn.svm import LinearSVC\n",
        "LSVC = LinearSVC(max_iter=10000)\n",
        "LSVC.fit(x_train,y_train)\n",
        "Yhat_LSVC = LSVC.predict(x_test)"
      ],
      "execution_count": 0,
      "outputs": [
        {
          "output_type": "stream",
          "text": [
            "C:\\Users\\hp\\Anaconda3\\lib\\site-packages\\sklearn\\svm\\base.py:931: ConvergenceWarning: Liblinear failed to converge, increase the number of iterations.\n",
            "  \"the number of iterations.\", ConvergenceWarning)\n"
          ],
          "name": "stderr"
        }
      ]
    },
    {
      "cell_type": "code",
      "metadata": {
        "id": "ZwuPmr7CCjvJ",
        "colab_type": "code",
        "outputId": "3f465ee9-9203-4224-d3cf-33a292d492e1",
        "colab": {}
      },
      "source": [
        "sns.distplot(y_test,hist=False,color='r',label='Actual Survival')\n",
        "plt.title('Actual v/s Predicted Survival')\n",
        "sns.distplot(Yhat_LSVC,hist=False,color='b',label='Predicted Survival')"
      ],
      "execution_count": 0,
      "outputs": [
        {
          "output_type": "execute_result",
          "data": {
            "text/plain": [
              "<matplotlib.axes._subplots.AxesSubplot at 0x13f233c8b70>"
            ]
          },
          "metadata": {
            "tags": []
          },
          "execution_count": 365
        },
        {
          "output_type": "display_data",
          "data": {
            "image/png": "[encoded data removed]",
            "text/plain": [
              "<Figure size 432x288 with 1 Axes>"
            ]
          },
          "metadata": {
            "tags": [],
            "needs_background": "light"
          }
        }
      ]
    },
    {
      "cell_type": "code",
      "metadata": {
        "id": "gXZ-vXBOCjvK",
        "colab_type": "code",
        "outputId": "c95e4604-4125-49ac-fd97-c37283b32267",
        "colab": {}
      },
      "source": [
        "accuracy_LSVC = round(accuracy_score(y_test,Yhat_LSVC),3)\n",
        "precision_LSVC = round(precision_score(y_test,Yhat_LSVC),3)\n",
        "recall_LSVC = round(recall_score(y_test,Yhat_LSVC),3)\n",
        "print(\"Accuracy  : {}% \\nPrecision : {}% \\nRecall    : {}% \".format(accuracy_LSVC*100,precision_LSVC*100,recall_LSVC*100))"
      ],
      "execution_count": 0,
      "outputs": [
        {
          "output_type": "stream",
          "text": [
            "Accuracy  : 79.9% \n",
            "Precision : 75.0% \n",
            "Recall    : 62.9% \n"
          ],
          "name": "stdout"
        }
      ]
    },
    {
      "cell_type": "markdown",
      "metadata": {
        "id": "-s2yp7poCjvL",
        "colab_type": "text"
      },
      "source": [
        "## 6. StochasticGradientDescent-SGDClassifier"
      ]
    },
    {
      "cell_type": "code",
      "metadata": {
        "id": "cs3CqS1_CjvL",
        "colab_type": "code",
        "colab": {}
      },
      "source": [
        "from sklearn.linear_model import SGDClassifier\n",
        "SGDC = SGDClassifier()\n",
        "SGDC.fit(x_train,y_train)\n",
        "Yhat_SGDC = SGDC.predict(x_test)"
      ],
      "execution_count": 0,
      "outputs": []
    },
    {
      "cell_type": "code",
      "metadata": {
        "id": "ZmQwVBwMCjvM",
        "colab_type": "code",
        "outputId": "b3ee1df5-c0d7-4257-c346-923a2856bd8d",
        "colab": {}
      },
      "source": [
        "sns.distplot(y_test,hist=False,color='r',label='Actual Survival')\n",
        "plt.title('Actual v/s Predicted Survival')\n",
        "sns.distplot(Yhat_SGDC,hist=False,color='b',label='Predicted Survival')"
      ],
      "execution_count": 0,
      "outputs": [
        {
          "output_type": "execute_result",
          "data": {
            "text/plain": [
              "<matplotlib.axes._subplots.AxesSubplot at 0x13f2363f748>"
            ]
          },
          "metadata": {
            "tags": []
          },
          "execution_count": 368
        },
        {
          "output_type": "display_data",
          "data": {
            "image/png": "[encoded data removed]",
            "text/plain": [
              "<Figure size 432x288 with 1 Axes>"
            ]
          },
          "metadata": {
            "tags": [],
            "needs_background": "light"
          }
        }
      ]
    },
    {
      "cell_type": "code",
      "metadata": {
        "id": "OzG0mrooCjvO",
        "colab_type": "code",
        "outputId": "b6bcf538-ec6e-4294-e32b-8a9255d74aa9",
        "colab": {}
      },
      "source": [
        "accuracy_SGDC = round(accuracy_score(y_test,Yhat_SGDC),3)\n",
        "precision_SGDC = round(precision_score(y_test,Yhat_SGDC),3)\n",
        "recall_SGDC = round(recall_score(y_test,Yhat_SGDC),3)\n",
        "print(\"Accuracy  : {}% \\nPrecision : {}% \\nRecall    : {}% \".format(accuracy_SGDC*100,precision_SGDC*100,recall_SGDC*100))"
      ],
      "execution_count": 0,
      "outputs": [
        {
          "output_type": "stream",
          "text": [
            "Accuracy  : 77.10000000000001% \n",
            "Precision : 71.39999999999999% \n",
            "Recall    : 56.49999999999999% \n"
          ],
          "name": "stdout"
        }
      ]
    },
    {
      "cell_type": "markdown",
      "metadata": {
        "id": "3TdfsynWCjvP",
        "colab_type": "text"
      },
      "source": [
        "## 7. Perceptron"
      ]
    },
    {
      "cell_type": "code",
      "metadata": {
        "id": "vA4xMEbRCjvP",
        "colab_type": "code",
        "colab": {}
      },
      "source": [
        "from sklearn.linear_model import Perceptron\n",
        "pn = Perceptron()\n",
        "pn.fit(x_train,y_train)\n",
        "Yhat_pn = pn.predict(x_test)"
      ],
      "execution_count": 0,
      "outputs": []
    },
    {
      "cell_type": "code",
      "metadata": {
        "id": "TyVwcI8xCjvQ",
        "colab_type": "code",
        "outputId": "1ed671d3-9300-4bd8-e10c-5af73228fbbc",
        "colab": {}
      },
      "source": [
        "sns.distplot(y_test,hist=False,color='r',label='Actual Survival')\n",
        "plt.title('Actual v/s Predicted Survival')\n",
        "sns.distplot(Yhat_pn,hist=False,color='b',label='Predicted Survival')"
      ],
      "execution_count": 0,
      "outputs": [
        {
          "output_type": "execute_result",
          "data": {
            "text/plain": [
              "<matplotlib.axes._subplots.AxesSubplot at 0x13f23c3feb8>"
            ]
          },
          "metadata": {
            "tags": []
          },
          "execution_count": 371
        },
        {
          "output_type": "display_data",
          "data": {
            "image/png": "[encoded data removed]",
            "text/plain": [
              "<Figure size 432x288 with 1 Axes>"
            ]
          },
          "metadata": {
            "tags": [],
            "needs_background": "light"
          }
        }
      ]
    },
    {
      "cell_type": "code",
      "metadata": {
        "id": "D49CbDPcCjvR",
        "colab_type": "code",
        "outputId": "6fb93b56-8fcc-40c5-95f9-b12361b5c654",
        "colab": {}
      },
      "source": [
        "accuracy_pn  = round(accuracy_score(y_test,Yhat_pn),3)\n",
        "precision_pn = round(precision_score(y_test,Yhat_pn),3)\n",
        "recall_pn    = round(recall_score(y_test,Yhat_pn),3)\n",
        "print(\"Accuracy  : {}% \\nPrecision : {}% \\nRecall    : {}% \".format(accuracy_pn*100,precision_pn*100,recall_pn*100))"
      ],
      "execution_count": 0,
      "outputs": [
        {
          "output_type": "stream",
          "text": [
            "Accuracy  : 77.7% \n",
            "Precision : 69.0% \n",
            "Recall    : 64.5% \n"
          ],
          "name": "stdout"
        }
      ]
    },
    {
      "cell_type": "markdown",
      "metadata": {
        "id": "XwyjJS25CjvR",
        "colab_type": "text"
      },
      "source": [
        "## 8. RandomForestClassifier"
      ]
    },
    {
      "cell_type": "code",
      "metadata": {
        "id": "D3uGNqp8CjvS",
        "colab_type": "code",
        "outputId": "4f7cccbe-a01e-4cab-fad9-8201bf965eba",
        "colab": {}
      },
      "source": [
        "from sklearn.ensemble import RandomForestClassifier\n",
        "from sklearn.model_selection import cross_val_score\n",
        "rf = RandomForestClassifier()\n",
        "cross_val_score(rf,x_train,y_train,cv=5)"
      ],
      "execution_count": 0,
      "outputs": [
        {
          "output_type": "execute_result",
          "data": {
            "text/plain": [
              "array([0.8041958 , 0.8041958 , 0.74647887, 0.81690141, 0.76760563])"
            ]
          },
          "metadata": {
            "tags": []
          },
          "execution_count": 373
        }
      ]
    },
    {
      "cell_type": "markdown",
      "metadata": {
        "id": "ep_hDMMxCjvT",
        "colab_type": "text"
      },
      "source": [
        "To find the optimal hyperparameter,we'll use grid search"
      ]
    },
    {
      "cell_type": "code",
      "metadata": {
        "id": "yZtzR1R5CjvT",
        "colab_type": "code",
        "colab": {}
      },
      "source": [
        "from sklearn.model_selection import GridSearchCV"
      ],
      "execution_count": 0,
      "outputs": []
    },
    {
      "cell_type": "code",
      "metadata": {
        "id": "2S4vkrbkCjvU",
        "colab_type": "code",
        "colab": {}
      },
      "source": [
        "def print_result(results):\n",
        "    print('BEST PARAMS {}'.format(results.best_params_))\n",
        "    means = results.cv_results_['mean_test_score']\n",
        "    stds = results.cv_results_['std_test_score']\n",
        "    for mean,std,params in zip(means,stds,results.cv_results_['params']):\n",
        "        print('{} (+/-{}) for {}'.format(round(mean,2),round(std*2,2),params))"
      ],
      "execution_count": 0,
      "outputs": []
    },
    {
      "cell_type": "code",
      "metadata": {
        "id": "UfbjBdNgCjvU",
        "colab_type": "code",
        "outputId": "30191940-f519-4508-e2eb-3e0ea22806f6",
        "colab": {}
      },
      "source": [
        "parameter={'n_estimators':[5,50,100],\n",
        "           'max_depth':[2,10,20,None]}                  # How many random forest do you want to build(n_estimators)\n",
        "cv = GridSearchCV(rf,parameter,cv=5)                    # 3(n_estimators)*4(max_depth)*5(cv) = 60 models\n",
        "cv.fit(x_train,y_train.values.ravel())\n",
        "print_result(cv)"
      ],
      "execution_count": 0,
      "outputs": [
        {
          "output_type": "stream",
          "text": [
            "BEST PARAMS {'max_depth': 10, 'n_estimators': 50}\n",
            "0.8 (+/-0.03) for {'max_depth': 2, 'n_estimators': 5}\n",
            "0.79 (+/-0.05) for {'max_depth': 2, 'n_estimators': 50}\n",
            "0.79 (+/-0.03) for {'max_depth': 2, 'n_estimators': 100}\n",
            "0.82 (+/-0.08) for {'max_depth': 10, 'n_estimators': 5}\n",
            "0.83 (+/-0.06) for {'max_depth': 10, 'n_estimators': 50}\n",
            "0.82 (+/-0.06) for {'max_depth': 10, 'n_estimators': 100}\n",
            "0.8 (+/-0.05) for {'max_depth': 20, 'n_estimators': 5}\n",
            "0.82 (+/-0.06) for {'max_depth': 20, 'n_estimators': 50}\n",
            "0.81 (+/-0.04) for {'max_depth': 20, 'n_estimators': 100}\n",
            "0.79 (+/-0.06) for {'max_depth': None, 'n_estimators': 5}\n",
            "0.81 (+/-0.06) for {'max_depth': None, 'n_estimators': 50}\n",
            "0.8 (+/-0.05) for {'max_depth': None, 'n_estimators': 100}\n"
          ],
          "name": "stdout"
        }
      ]
    },
    {
      "cell_type": "code",
      "metadata": {
        "id": "okLH7b5sCjvV",
        "colab_type": "code",
        "outputId": "c7da965d-1913-44e6-cc7b-5c84ddfa66b1",
        "colab": {}
      },
      "source": [
        "rf1 = RandomForestClassifier(n_estimators=100,max_depth=10)\n",
        "rf1.fit(x_train,y_train.values.ravel())\n",
        "rf2 = RandomForestClassifier(n_estimators=50,max_depth=10)\n",
        "rf2.fit(x_train,y_train.values.ravel())\n",
        "rf3 = RandomForestClassifier(n_estimators=50,max_depth=20)\n",
        "rf3.fit(x_train,y_train.values.ravel())"
      ],
      "execution_count": 0,
      "outputs": [
        {
          "output_type": "execute_result",
          "data": {
            "text/plain": [
              "RandomForestClassifier(bootstrap=True, class_weight=None, criterion='gini',\n",
              "            max_depth=20, max_features='auto', max_leaf_nodes=None,\n",
              "            min_impurity_decrease=0.0, min_impurity_split=None,\n",
              "            min_samples_leaf=1, min_samples_split=2,\n",
              "            min_weight_fraction_leaf=0.0, n_estimators=50, n_jobs=None,\n",
              "            oob_score=False, random_state=None, verbose=0,\n",
              "            warm_start=False)"
            ]
          },
          "metadata": {
            "tags": []
          },
          "execution_count": 377
        }
      ]
    },
    {
      "cell_type": "code",
      "metadata": {
        "id": "-wSKjZ3pCjvW",
        "colab_type": "code",
        "outputId": "265f015a-39a8-4a28-9681-1ee927dddb6c",
        "colab": {}
      },
      "source": [
        "for model in [rf1,rf2,rf3]:\n",
        "    Yhat = model.predict(x_test)\n",
        "    accuracy = round(accuracy_score(y_test,Yhat),3)\n",
        "    precision = round(precision_score(y_test,Yhat),3)\n",
        "    recall = round(recall_score(y_test,Yhat),3)\n",
        "    print(\"max_depth : {} , n_estimators : {}, A:{} , P:{} , R:{} \"\n",
        "          .format(model.max_depth,model.n_estimators,accuracy,precision,recall))"
      ],
      "execution_count": 0,
      "outputs": [
        {
          "output_type": "stream",
          "text": [
            "max_depth : 10 , n_estimators : 100, A:0.86 , P:0.803 , R:0.79 \n",
            "max_depth : 10 , n_estimators : 50, A:0.849 , P:0.787 , R:0.774 \n",
            "max_depth : 20 , n_estimators : 50, A:0.855 , P:0.8 , R:0.774 \n"
          ],
          "name": "stdout"
        }
      ]
    },
    {
      "cell_type": "markdown",
      "metadata": {
        "id": "94Ivi-ASCjvW",
        "colab_type": "text"
      },
      "source": [
        "model rf1 and rf3 has more accuracy"
      ]
    },
    {
      "cell_type": "code",
      "metadata": {
        "id": "1nONp4hxCjvX",
        "colab_type": "code",
        "colab": {}
      },
      "source": [
        "Yhat_rf = rf1.predict(x_test)"
      ],
      "execution_count": 0,
      "outputs": []
    },
    {
      "cell_type": "code",
      "metadata": {
        "id": "gIiuARV5CjvX",
        "colab_type": "code",
        "outputId": "34e57b3a-65b2-4fd3-fdd2-708d0c6ed218",
        "colab": {}
      },
      "source": [
        "sns.distplot(y_test,hist=False,color='r',label='Actual Survival')\n",
        "plt.title('Actual v/s Predicted Survival')\n",
        "sns.distplot(Yhat_rf,hist=False,color='b',label='Predicted Survival')"
      ],
      "execution_count": 0,
      "outputs": [
        {
          "output_type": "execute_result",
          "data": {
            "text/plain": [
              "<matplotlib.axes._subplots.AxesSubplot at 0x13f2335d0f0>"
            ]
          },
          "metadata": {
            "tags": []
          },
          "execution_count": 380
        },
        {
          "output_type": "display_data",
          "data": {
            "image/png": "[encoded data removed]",
            "text/plain": [
              "<Figure size 432x288 with 1 Axes>"
            ]
          },
          "metadata": {
            "tags": [],
            "needs_background": "light"
          }
        }
      ]
    },
    {
      "cell_type": "code",
      "metadata": {
        "id": "L7Icw6h7CjvY",
        "colab_type": "code",
        "outputId": "1e3a4acf-f6a3-4609-a781-3a02ce59d4f7",
        "colab": {}
      },
      "source": [
        "accuracy_rf  = round(accuracy_score(y_test,Yhat_rf),3)\n",
        "precision_rf = round(precision_score(y_test,Yhat_rf),3)\n",
        "recall_rf    = round(recall_score(y_test,Yhat_rf),3)\n",
        "print(\"max_depth : {}  \\nn_estimators : {}\\nAccuracy  : {}% \\nPrecision : {}% \\nRecall    : {}% \"\n",
        "      .format(rf1.max_depth,rf1.n_estimators,accuracy_rf*100,precision_rf*100,recall_rf*100))"
      ],
      "execution_count": 0,
      "outputs": [
        {
          "output_type": "stream",
          "text": [
            "max_depth : 10  \n",
            "n_estimators : 100\n",
            "Accuracy  : 86.0% \n",
            "Precision : 80.30000000000001% \n",
            "Recall    : 79.0% \n"
          ],
          "name": "stdout"
        }
      ]
    },
    {
      "cell_type": "markdown",
      "metadata": {
        "id": "SqYcOO4dCjvZ",
        "colab_type": "text"
      },
      "source": [
        "## 9. DecisionTreeClassifier"
      ]
    },
    {
      "cell_type": "code",
      "metadata": {
        "id": "epFdzRu_Cjva",
        "colab_type": "code",
        "colab": {}
      },
      "source": [
        "from sklearn.tree import DecisionTreeClassifier\n",
        "DTC = DecisionTreeClassifier()\n",
        "DTC.fit(x_train,y_train)\n",
        "Yhat_DTC = DTC.predict(x_test)"
      ],
      "execution_count": 0,
      "outputs": []
    },
    {
      "cell_type": "code",
      "metadata": {
        "id": "yRXI1EtXCjvb",
        "colab_type": "code",
        "outputId": "ee2996bf-e0e2-416f-dd93-60d20d361ae1",
        "colab": {}
      },
      "source": [
        "sns.distplot(y_test,hist=False,color='r',label='Actual Survival')\n",
        "plt.title('Actual v/s Predicted Survival')\n",
        "sns.distplot(Yhat_DTC,hist=False,color='b',label='Predicted Survival')"
      ],
      "execution_count": 0,
      "outputs": [
        {
          "output_type": "execute_result",
          "data": {
            "text/plain": [
              "<matplotlib.axes._subplots.AxesSubplot at 0x13f1d22ecf8>"
            ]
          },
          "metadata": {
            "tags": []
          },
          "execution_count": 255
        },
        {
          "output_type": "display_data",
          "data": {
            "image/png": "[encoded data removed]",
            "text/plain": [
              "<Figure size 432x288 with 1 Axes>"
            ]
          },
          "metadata": {
            "tags": [],
            "needs_background": "light"
          }
        }
      ]
    },
    {
      "cell_type": "code",
      "metadata": {
        "id": "b-qbynJBCjve",
        "colab_type": "code",
        "outputId": "5be11758-19a7-4b89-8dbb-176bbf2ada02",
        "colab": {}
      },
      "source": [
        "accuracy_DTC  = round(accuracy_score(y_test,Yhat_DTC),3)\n",
        "precision_DTC = round(precision_score(y_test,Yhat_DTC),3)\n",
        "recall_DTC    = round(recall_score(y_test,Yhat_DTC),3)\n",
        "print(\"Accuracy  : {}% \\nPrecision : {}% \\nRecall    : {}% \".format(accuracy_DTC*100,precision_DTC*100,recall_DTC*100))"
      ],
      "execution_count": 0,
      "outputs": [
        {
          "output_type": "stream",
          "text": [
            "Accuracy  : 81.0% \n",
            "Precision : 71.2% \n",
            "Recall    : 75.8% \n"
          ],
          "name": "stdout"
        }
      ]
    },
    {
      "cell_type": "markdown",
      "metadata": {
        "id": "gH_Tk_OTCjvf",
        "colab_type": "text"
      },
      "source": [
        "## 10. GradientBoostingClassifier"
      ]
    },
    {
      "cell_type": "code",
      "metadata": {
        "id": "O2ZaFEV8Cjvf",
        "colab_type": "code",
        "colab": {}
      },
      "source": [
        "from sklearn.ensemble import GradientBoostingClassifier\n",
        "GBC = GradientBoostingClassifier()\n",
        "GBC.fit(x_train,y_train)\n",
        "Yhat_GBC = GBC.predict(x_test)"
      ],
      "execution_count": 0,
      "outputs": []
    },
    {
      "cell_type": "code",
      "metadata": {
        "id": "OwVe-hQhCjvf",
        "colab_type": "code",
        "outputId": "6c2f3983-6aa6-4f7f-8e74-e33834bf4855",
        "colab": {}
      },
      "source": [
        "sns.distplot(y_test,hist=False,color='r',label='Actual Survival')\n",
        "plt.title('Actual v/s Predicted Survival')\n",
        "sns.distplot(Yhat_GBC,hist=False,color='b',label='Predicted Survival')"
      ],
      "execution_count": 0,
      "outputs": [
        {
          "output_type": "execute_result",
          "data": {
            "text/plain": [
              "<matplotlib.axes._subplots.AxesSubplot at 0x13f1e6a37b8>"
            ]
          },
          "metadata": {
            "tags": []
          },
          "execution_count": 258
        },
        {
          "output_type": "display_data",
          "data": {
            "image/png": "[encoded data removed]",
            "text/plain": [
              "<Figure size 432x288 with 1 Axes>"
            ]
          },
          "metadata": {
            "tags": [],
            "needs_background": "light"
          }
        }
      ]
    },
    {
      "cell_type": "code",
      "metadata": {
        "id": "BMcCqMdyCjvg",
        "colab_type": "code",
        "outputId": "de2e0650-3894-48fc-a7b4-7b0bab70a657",
        "colab": {}
      },
      "source": [
        "accuracy_GBC  = round(accuracy_score(y_test,Yhat_GBC),3)\n",
        "precision_GBC = round(precision_score(y_test,Yhat_GBC),3)\n",
        "recall_GBC    = round(recall_score(y_test,Yhat_GBC),3)\n",
        "print(\"Accuracy  : {}% \\nPrecision : {}% \\nRecall    : {}% \".format(accuracy_GBC*100,precision_GBC*100,recall_GBC*100))"
      ],
      "execution_count": 0,
      "outputs": [
        {
          "output_type": "stream",
          "text": [
            "Accuracy  : 84.39999999999999% \n",
            "Precision : 78.3% \n",
            "Recall    : 75.8% \n"
          ],
          "name": "stdout"
        }
      ]
    },
    {
      "cell_type": "markdown",
      "metadata": {
        "id": "KxpheIb4Cjvg",
        "colab_type": "text"
      },
      "source": [
        "## 11. KNN"
      ]
    },
    {
      "cell_type": "code",
      "metadata": {
        "id": "1VwD5y14Cjvh",
        "colab_type": "code",
        "colab": {}
      },
      "source": [
        "from sklearn.neighbors import KNeighborsClassifier\n",
        "KNN = KNeighborsClassifier()\n",
        "KNN.fit(x_train,y_train)\n",
        "Yhat_KNN = KNN.predict(x_test)"
      ],
      "execution_count": 0,
      "outputs": []
    },
    {
      "cell_type": "code",
      "metadata": {
        "id": "zNTjxgMKCjvh",
        "colab_type": "code",
        "outputId": "4a0fa431-5733-4452-ed38-b26195ccf51f",
        "colab": {}
      },
      "source": [
        "sns.distplot(y_test,hist=False,color='r',label='Actual Survival')\n",
        "plt.title('Actual v/s Predicted Survival')\n",
        "sns.distplot(Yhat_KNN,hist=False,color='b',label='Predicted Survival')"
      ],
      "execution_count": 0,
      "outputs": [
        {
          "output_type": "execute_result",
          "data": {
            "text/plain": [
              "<matplotlib.axes._subplots.AxesSubplot at 0x13f1ede19b0>"
            ]
          },
          "metadata": {
            "tags": []
          },
          "execution_count": 261
        },
        {
          "output_type": "display_data",
          "data": {
            "image/png": "[encoded data removed]",
            "text/plain": [
              "<Figure size 432x288 with 1 Axes>"
            ]
          },
          "metadata": {
            "tags": [],
            "needs_background": "light"
          }
        }
      ]
    },
    {
      "cell_type": "code",
      "metadata": {
        "id": "Gfh3copxCjvi",
        "colab_type": "code",
        "outputId": "ef693ab0-f0be-4571-cec9-246f5424a059",
        "colab": {}
      },
      "source": [
        "accuracy_KNN  = round(accuracy_score(y_test,Yhat_KNN),3)\n",
        "precision_KNN = round(precision_score(y_test,Yhat_KNN),3)\n",
        "recall_KNN    = round(recall_score(y_test,Yhat_KNN),3)\n",
        "print(\"Accuracy  : {}% \\nPrecision : {}% \\nRecall    : {}% \".format(accuracy_KNN*100,precision_KNN*100,recall_KNN*100))"
      ],
      "execution_count": 0,
      "outputs": [
        {
          "output_type": "stream",
          "text": [
            "Accuracy  : 72.6% \n",
            "Precision : 60.699999999999996% \n",
            "Recall    : 59.699999999999996% \n"
          ],
          "name": "stdout"
        }
      ]
    },
    {
      "cell_type": "markdown",
      "metadata": {
        "id": "sKPkzE1UCjvi",
        "colab_type": "text"
      },
      "source": [
        "# **-----------------------------------------------------------------------------------------------------------**"
      ]
    },
    {
      "cell_type": "code",
      "metadata": {
        "id": "eOrpWUWrCjvi",
        "colab_type": "code",
        "outputId": "8715468a-48a5-4b5f-a228-3093aa46b27e",
        "colab": {}
      },
      "source": [
        "prediction = pd.DataFrame({'Models':['LinearRegression','LogisticRegression','GaussianNB','SupportVectorMachine-SVC','SupportVectorMachine-LSVC',\n",
        "           'StochasticGradientDescent-SGDClassifier','Perceptron','RandomForestClassifier','DecisionTreeClassifier',\n",
        "           'GradientBoostingClassifier','KNN'],\n",
        " \n",
        " 'Accuracy_Score':[accuracy_lr,accuracy_lgr,accuracy_GNB,accuracy_SVC,accuracy_LSVC,accuracy_SGDC,accuracy_pn,accuracy_rf,\n",
        "                   accuracy_DTC,accuracy_GBC,accuracy_KNN],\n",
        " \n",
        " \n",
        " 'Precision_Score':[precision_lr,precision_lgr,precision_GNB,precision_SVC,precision_LSVC,precision_SGDC,precision_pn,\n",
        "                    precision_rf,precision_DTC,precision_GBC,precision_KNN],\n",
        " \n",
        " \n",
        " 'Recall_Score':[recall_lr,recall_lgr,recall_GNB,recall_SVC,recall_LSVC,recall_SGDC,recall_pn,recall_rf,recall_DTC,recall_GBC,\n",
        "                 recall_KNN]})\n",
        "prediction.sort_values(by='Accuracy_Score', ascending=False)"
      ],
      "execution_count": 0,
      "outputs": [
        {
          "output_type": "execute_result",
          "data": {
            "text/html": [
              "<div>\n",
              "<style scoped>\n",
              "    .dataframe tbody tr th:only-of-type {\n",
              "        vertical-align: middle;\n",
              "    }\n",
              "\n",
              "    .dataframe tbody tr th {\n",
              "        vertical-align: top;\n",
              "    }\n",
              "\n",
              "    .dataframe thead th {\n",
              "        text-align: right;\n",
              "    }\n",
              "</style>\n",
              "<table border=\"1\" class=\"dataframe\">\n",
              "  <thead>\n",
              "    <tr style=\"text-align: right;\">\n",
              "      <th></th>\n",
              "      <th>Models</th>\n",
              "      <th>Accuracy_Score</th>\n",
              "      <th>Precision_Score</th>\n",
              "      <th>Recall_Score</th>\n",
              "    </tr>\n",
              "  </thead>\n",
              "  <tbody>\n",
              "    <tr>\n",
              "      <th>7</th>\n",
              "      <td>RandomForestClassifier</td>\n",
              "      <td>0.877</td>\n",
              "      <td>0.833</td>\n",
              "      <td>0.806</td>\n",
              "    </tr>\n",
              "    <tr>\n",
              "      <th>9</th>\n",
              "      <td>GradientBoostingClassifier</td>\n",
              "      <td>0.844</td>\n",
              "      <td>0.783</td>\n",
              "      <td>0.758</td>\n",
              "    </tr>\n",
              "    <tr>\n",
              "      <th>4</th>\n",
              "      <td>SupportVectorMachine-LSVC</td>\n",
              "      <td>0.838</td>\n",
              "      <td>0.762</td>\n",
              "      <td>0.774</td>\n",
              "    </tr>\n",
              "    <tr>\n",
              "      <th>0</th>\n",
              "      <td>LinearRegression</td>\n",
              "      <td>0.832</td>\n",
              "      <td>0.767</td>\n",
              "      <td>0.742</td>\n",
              "    </tr>\n",
              "    <tr>\n",
              "      <th>1</th>\n",
              "      <td>LogisticRegression</td>\n",
              "      <td>0.832</td>\n",
              "      <td>0.767</td>\n",
              "      <td>0.742</td>\n",
              "    </tr>\n",
              "    <tr>\n",
              "      <th>2</th>\n",
              "      <td>GaussianNB</td>\n",
              "      <td>0.810</td>\n",
              "      <td>0.720</td>\n",
              "      <td>0.742</td>\n",
              "    </tr>\n",
              "    <tr>\n",
              "      <th>8</th>\n",
              "      <td>DecisionTreeClassifier</td>\n",
              "      <td>0.810</td>\n",
              "      <td>0.712</td>\n",
              "      <td>0.758</td>\n",
              "    </tr>\n",
              "    <tr>\n",
              "      <th>3</th>\n",
              "      <td>SupportVectorMachine-SVC</td>\n",
              "      <td>0.737</td>\n",
              "      <td>0.623</td>\n",
              "      <td>0.613</td>\n",
              "    </tr>\n",
              "    <tr>\n",
              "      <th>10</th>\n",
              "      <td>KNN</td>\n",
              "      <td>0.726</td>\n",
              "      <td>0.607</td>\n",
              "      <td>0.597</td>\n",
              "    </tr>\n",
              "    <tr>\n",
              "      <th>5</th>\n",
              "      <td>StochasticGradientDescent-SGDClassifier</td>\n",
              "      <td>0.363</td>\n",
              "      <td>0.341</td>\n",
              "      <td>0.903</td>\n",
              "    </tr>\n",
              "    <tr>\n",
              "      <th>6</th>\n",
              "      <td>Perceptron</td>\n",
              "      <td>0.358</td>\n",
              "      <td>0.347</td>\n",
              "      <td>0.968</td>\n",
              "    </tr>\n",
              "  </tbody>\n",
              "</table>\n",
              "</div>"
            ],
            "text/plain": [
              "                                     Models  Accuracy_Score  Precision_Score  \\\n",
              "7                    RandomForestClassifier           0.877            0.833   \n",
              "9                GradientBoostingClassifier           0.844            0.783   \n",
              "4                 SupportVectorMachine-LSVC           0.838            0.762   \n",
              "0                          LinearRegression           0.832            0.767   \n",
              "1                        LogisticRegression           0.832            0.767   \n",
              "2                                GaussianNB           0.810            0.720   \n",
              "8                    DecisionTreeClassifier           0.810            0.712   \n",
              "3                  SupportVectorMachine-SVC           0.737            0.623   \n",
              "10                                      KNN           0.726            0.607   \n",
              "5   StochasticGradientDescent-SGDClassifier           0.363            0.341   \n",
              "6                                Perceptron           0.358            0.347   \n",
              "\n",
              "    Recall_Score  \n",
              "7          0.806  \n",
              "9          0.758  \n",
              "4          0.774  \n",
              "0          0.742  \n",
              "1          0.742  \n",
              "2          0.742  \n",
              "8          0.758  \n",
              "3          0.613  \n",
              "10         0.597  \n",
              "5          0.903  \n",
              "6          0.968  "
            ]
          },
          "metadata": {
            "tags": []
          },
          "execution_count": 263
        }
      ]
    },
    {
      "cell_type": "markdown",
      "metadata": {
        "id": "_yGo-OuTCjvj",
        "colab_type": "text"
      },
      "source": [
        "# **-----------------------------------------------------------------------------------------------------------**"
      ]
    },
    {
      "cell_type": "markdown",
      "metadata": {
        "id": "Zm2sIUySCjvj",
        "colab_type": "text"
      },
      "source": [
        "## Submission "
      ]
    },
    {
      "cell_type": "code",
      "metadata": {
        "id": "3dQv6AVTCjvk",
        "colab_type": "code",
        "outputId": "2554bb59-f147-425d-ed03-e8ec9f63cd2e",
        "colab": {}
      },
      "source": [
        "titanic_test.head()"
      ],
      "execution_count": 0,
      "outputs": [
        {
          "output_type": "execute_result",
          "data": {
            "text/html": [
              "<div>\n",
              "<style scoped>\n",
              "    .dataframe tbody tr th:only-of-type {\n",
              "        vertical-align: middle;\n",
              "    }\n",
              "\n",
              "    .dataframe tbody tr th {\n",
              "        vertical-align: top;\n",
              "    }\n",
              "\n",
              "    .dataframe thead th {\n",
              "        text-align: right;\n",
              "    }\n",
              "</style>\n",
              "<table border=\"1\" class=\"dataframe\">\n",
              "  <thead>\n",
              "    <tr style=\"text-align: right;\">\n",
              "      <th></th>\n",
              "      <th>PassengerId</th>\n",
              "      <th>Pclass</th>\n",
              "      <th>Name</th>\n",
              "      <th>Sex</th>\n",
              "      <th>Age</th>\n",
              "      <th>SibSp</th>\n",
              "      <th>Parch</th>\n",
              "      <th>Ticket</th>\n",
              "      <th>Fare</th>\n",
              "      <th>Cabin</th>\n",
              "      <th>Embarked</th>\n",
              "    </tr>\n",
              "  </thead>\n",
              "  <tbody>\n",
              "    <tr>\n",
              "      <th>0</th>\n",
              "      <td>892</td>\n",
              "      <td>3</td>\n",
              "      <td>Kelly, Mr. James</td>\n",
              "      <td>male</td>\n",
              "      <td>34.5</td>\n",
              "      <td>0</td>\n",
              "      <td>0</td>\n",
              "      <td>330911</td>\n",
              "      <td>7.8292</td>\n",
              "      <td>NaN</td>\n",
              "      <td>Q</td>\n",
              "    </tr>\n",
              "    <tr>\n",
              "      <th>1</th>\n",
              "      <td>893</td>\n",
              "      <td>3</td>\n",
              "      <td>Wilkes, Mrs. James (Ellen Needs)</td>\n",
              "      <td>female</td>\n",
              "      <td>47.0</td>\n",
              "      <td>1</td>\n",
              "      <td>0</td>\n",
              "      <td>363272</td>\n",
              "      <td>7.0000</td>\n",
              "      <td>NaN</td>\n",
              "      <td>S</td>\n",
              "    </tr>\n",
              "    <tr>\n",
              "      <th>2</th>\n",
              "      <td>894</td>\n",
              "      <td>2</td>\n",
              "      <td>Myles, Mr. Thomas Francis</td>\n",
              "      <td>male</td>\n",
              "      <td>62.0</td>\n",
              "      <td>0</td>\n",
              "      <td>0</td>\n",
              "      <td>240276</td>\n",
              "      <td>9.6875</td>\n",
              "      <td>NaN</td>\n",
              "      <td>Q</td>\n",
              "    </tr>\n",
              "    <tr>\n",
              "      <th>3</th>\n",
              "      <td>895</td>\n",
              "      <td>3</td>\n",
              "      <td>Wirz, Mr. Albert</td>\n",
              "      <td>male</td>\n",
              "      <td>27.0</td>\n",
              "      <td>0</td>\n",
              "      <td>0</td>\n",
              "      <td>315154</td>\n",
              "      <td>8.6625</td>\n",
              "      <td>NaN</td>\n",
              "      <td>S</td>\n",
              "    </tr>\n",
              "    <tr>\n",
              "      <th>4</th>\n",
              "      <td>896</td>\n",
              "      <td>3</td>\n",
              "      <td>Hirvonen, Mrs. Alexander (Helga E Lindqvist)</td>\n",
              "      <td>female</td>\n",
              "      <td>22.0</td>\n",
              "      <td>1</td>\n",
              "      <td>1</td>\n",
              "      <td>3101298</td>\n",
              "      <td>12.2875</td>\n",
              "      <td>NaN</td>\n",
              "      <td>S</td>\n",
              "    </tr>\n",
              "  </tbody>\n",
              "</table>\n",
              "</div>"
            ],
            "text/plain": [
              "   PassengerId  Pclass                                          Name     Sex  \\\n",
              "0          892       3                              Kelly, Mr. James    male   \n",
              "1          893       3              Wilkes, Mrs. James (Ellen Needs)  female   \n",
              "2          894       2                     Myles, Mr. Thomas Francis    male   \n",
              "3          895       3                              Wirz, Mr. Albert    male   \n",
              "4          896       3  Hirvonen, Mrs. Alexander (Helga E Lindqvist)  female   \n",
              "\n",
              "    Age  SibSp  Parch   Ticket     Fare Cabin Embarked  \n",
              "0  34.5      0      0   330911   7.8292   NaN        Q  \n",
              "1  47.0      1      0   363272   7.0000   NaN        S  \n",
              "2  62.0      0      0   240276   9.6875   NaN        Q  \n",
              "3  27.0      0      0   315154   8.6625   NaN        S  \n",
              "4  22.0      1      1  3101298  12.2875   NaN        S  "
            ]
          },
          "metadata": {
            "tags": []
          },
          "execution_count": 267
        }
      ]
    },
    {
      "cell_type": "code",
      "metadata": {
        "id": "jXlZYuhNCjvl",
        "colab_type": "code",
        "colab": {}
      },
      "source": [
        "\n",
        "Prediction = rf1.predict(titanic_test)\n",
        "df1 = pd.DataFrame({ 'PassengerId' : P_ID, 'Survived': Prediction})\n",
        "df1.to_csv('submission.csv', index=False)"
      ],
      "execution_count": 0,
      "outputs": []
    },
    {
      "cell_type": "code",
      "metadata": {
        "id": "fNFD3XY0Cjvm",
        "colab_type": "code",
        "colab": {}
      },
      "source": [
        ""
      ],
      "execution_count": 0,
      "outputs": []
    }
  ]
}